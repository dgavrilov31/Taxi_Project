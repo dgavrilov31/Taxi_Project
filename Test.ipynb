{
 "cells": [
  {
   "cell_type": "code",
   "execution_count": 1,
   "id": "bee9cbfa",
   "metadata": {},
   "outputs": [],
   "source": [
    "import polars as pl\n",
    "df = pl.read_csv(r\"C:\\Users\\danie\\Downloads\\2022_Yellow_Taxi_Trip_Data_20250414.csv\")\n"
   ]
  },
  {
   "cell_type": "code",
   "execution_count": 2,
   "id": "fa676262",
   "metadata": {},
   "outputs": [
    {
     "name": "stdout",
     "output_type": "stream",
     "text": [
      "shape: (5, 19)\n",
      "┌──────────┬───────────┬───────────┬───────────┬───┬───────────┬───────────┬───────────┬───────────┐\n",
      "│ VendorID ┆ tpep_pick ┆ tpep_drop ┆ passenger ┆ … ┆ improveme ┆ total_amo ┆ congestio ┆ airport_f │\n",
      "│ ---      ┆ up_dateti ┆ off_datet ┆ _count    ┆   ┆ nt_surcha ┆ unt       ┆ n_surchar ┆ ee        │\n",
      "│ i64      ┆ me        ┆ ime       ┆ ---       ┆   ┆ rge       ┆ ---       ┆ ge        ┆ ---       │\n",
      "│          ┆ ---       ┆ ---       ┆ i64       ┆   ┆ ---       ┆ f64       ┆ ---       ┆ f64       │\n",
      "│          ┆ str       ┆ str       ┆           ┆   ┆ f64       ┆           ┆ f64       ┆           │\n",
      "╞══════════╪═══════════╪═══════════╪═══════════╪═══╪═══════════╪═══════════╪═══════════╪═══════════╡\n",
      "│ 1        ┆ 01/01/202 ┆ 01/01/202 ┆ 2         ┆ … ┆ 0.3       ┆ 21.95     ┆ 2.5       ┆ 0.0       │\n",
      "│          ┆ 2         ┆ 2         ┆           ┆   ┆           ┆           ┆           ┆           │\n",
      "│          ┆ 12:35:40  ┆ 12:53:29  ┆           ┆   ┆           ┆           ┆           ┆           │\n",
      "│          ┆ AM        ┆ AM        ┆           ┆   ┆           ┆           ┆           ┆           │\n",
      "│ 1        ┆ 01/01/202 ┆ 01/01/202 ┆ 1         ┆ … ┆ 0.3       ┆ 13.3      ┆ 0.0       ┆ 0.0       │\n",
      "│          ┆ 2         ┆ 2         ┆           ┆   ┆           ┆           ┆           ┆           │\n",
      "│          ┆ 12:33:43  ┆ 12:42:07  ┆           ┆   ┆           ┆           ┆           ┆           │\n",
      "│          ┆ AM        ┆ AM        ┆           ┆   ┆           ┆           ┆           ┆           │\n",
      "│ 2        ┆ 01/01/202 ┆ 01/01/202 ┆ 1         ┆ … ┆ 0.3       ┆ 10.56     ┆ 0.0       ┆ 0.0       │\n",
      "│          ┆ 2         ┆ 2         ┆           ┆   ┆           ┆           ┆           ┆           │\n",
      "│          ┆ 12:53:21  ┆ 01:02:19  ┆           ┆   ┆           ┆           ┆           ┆           │\n",
      "│          ┆ AM        ┆ AM        ┆           ┆   ┆           ┆           ┆           ┆           │\n",
      "│ 2        ┆ 01/01/202 ┆ 01/01/202 ┆ 1         ┆ … ┆ 0.3       ┆ 11.8      ┆ 2.5       ┆ 0.0       │\n",
      "│          ┆ 2         ┆ 2         ┆           ┆   ┆           ┆           ┆           ┆           │\n",
      "│          ┆ 12:25:21  ┆ 12:35:23  ┆           ┆   ┆           ┆           ┆           ┆           │\n",
      "│          ┆ AM        ┆ AM        ┆           ┆   ┆           ┆           ┆           ┆           │\n",
      "│ 2        ┆ 01/01/202 ┆ 01/01/202 ┆ 1         ┆ … ┆ 0.3       ┆ 30.3      ┆ 2.5       ┆ 0.0       │\n",
      "│          ┆ 2         ┆ 2         ┆           ┆   ┆           ┆           ┆           ┆           │\n",
      "│          ┆ 12:36:48  ┆ 01:14:20  ┆           ┆   ┆           ┆           ┆           ┆           │\n",
      "│          ┆ AM        ┆ AM        ┆           ┆   ┆           ┆           ┆           ┆           │\n",
      "└──────────┴───────────┴───────────┴───────────┴───┴───────────┴───────────┴───────────┴───────────┘\n"
     ]
    }
   ],
   "source": [
    "print(df.head())\n"
   ]
  },
  {
   "cell_type": "code",
   "execution_count": 3,
   "id": "6c84b193",
   "metadata": {},
   "outputs": [
    {
     "name": "stdout",
     "output_type": "stream",
     "text": [
      "[Int64, String, String, Int64, Float64, Int64, String, Int64, Int64, Int64, Float64, Float64, Float64, Float64, Float64, Float64, Float64, Float64, Float64]\n"
     ]
    }
   ],
   "source": [
    "print(df.dtypes)"
   ]
  },
  {
   "cell_type": "code",
   "execution_count": 4,
   "id": "2f9de2f6",
   "metadata": {},
   "outputs": [
    {
     "name": "stdout",
     "output_type": "stream",
     "text": [
      "shape: (1, 19)\n",
      "┌──────────┬───────────┬───────────┬───────────┬───┬───────────┬───────────┬───────────┬───────────┐\n",
      "│ VendorID ┆ tpep_pick ┆ tpep_drop ┆ passenger ┆ … ┆ improveme ┆ total_amo ┆ congestio ┆ airport_f │\n",
      "│ ---      ┆ up_dateti ┆ off_datet ┆ _count    ┆   ┆ nt_surcha ┆ unt       ┆ n_surchar ┆ ee        │\n",
      "│ u32      ┆ me        ┆ ime       ┆ ---       ┆   ┆ rge       ┆ ---       ┆ ge        ┆ ---       │\n",
      "│          ┆ ---       ┆ ---       ┆ u32       ┆   ┆ ---       ┆ u32       ┆ ---       ┆ u32       │\n",
      "│          ┆ u32       ┆ u32       ┆           ┆   ┆ u32       ┆           ┆ u32       ┆           │\n",
      "╞══════════╪═══════════╪═══════════╪═══════════╪═══╪═══════════╪═══════════╪═══════════╪═══════════╡\n",
      "│ 0        ┆ 0         ┆ 0         ┆ 1368303   ┆ … ┆ 0         ┆ 0         ┆ 1368303   ┆ 1368303   │\n",
      "└──────────┴───────────┴───────────┴───────────┴───┴───────────┴───────────┴───────────┴───────────┘\n"
     ]
    }
   ],
   "source": [
    "# check how many values are missing in each column\n",
    "print(df.null_count())"
   ]
  },
  {
   "cell_type": "code",
   "execution_count": 5,
   "id": "02563aea",
   "metadata": {},
   "outputs": [
    {
     "name": "stdout",
     "output_type": "stream",
     "text": [
      "shape: (1, 19)\n",
      "┌──────────┬───────────┬───────────┬───────────┬───┬───────────┬───────────┬───────────┬───────────┐\n",
      "│ VendorID ┆ tpep_pick ┆ tpep_drop ┆ passenger ┆ … ┆ improveme ┆ total_amo ┆ congestio ┆ airport_f │\n",
      "│ ---      ┆ up_dateti ┆ off_datet ┆ _count    ┆   ┆ nt_surcha ┆ unt       ┆ n_surchar ┆ ee        │\n",
      "│ f64      ┆ me        ┆ ime       ┆ ---       ┆   ┆ rge       ┆ ---       ┆ ge        ┆ ---       │\n",
      "│          ┆ ---       ┆ ---       ┆ f64       ┆   ┆ ---       ┆ f64       ┆ ---       ┆ f64       │\n",
      "│          ┆ f64       ┆ f64       ┆           ┆   ┆ f64       ┆           ┆ f64       ┆           │\n",
      "╞══════════╪═══════════╪═══════════╪═══════════╪═══╪═══════════╪═══════════╪═══════════╪═══════════╡\n",
      "│ 0.0      ┆ 0.0       ┆ 0.0       ┆ 3.450423  ┆ … ┆ 0.0       ┆ 0.0       ┆ 3.450423  ┆ 3.450423  │\n",
      "└──────────┴───────────┴───────────┴───────────┴───┴───────────┴───────────┴───────────┴───────────┘\n"
     ]
    }
   ],
   "source": [
    "# check percentage of missing values in each column\n",
    "print(df.null_count() / len(df) * 100)"
   ]
  },
  {
   "cell_type": "code",
   "execution_count": 6,
   "id": "5546b359",
   "metadata": {},
   "outputs": [],
   "source": [
    "# convert the pickup and dropoff datetime columns to datetime objects\n",
    "df = df.with_columns(\n",
    "    pl.col(\"tpep_pickup_datetime\").str.strptime(\n",
    "        pl.Datetime, \n",
    "        format=\"%m/%d/%Y %I:%M:%S %p\"  # <-- This matches your AM/PM format\n",
    "    ),\n",
    "    pl.col(\"tpep_dropoff_datetime\").str.strptime(\n",
    "        pl.Datetime, \n",
    "        format=\"%m/%d/%Y %I:%M:%S %p\"  # Same format\n",
    "    )\n",
    ")\n",
    "#df.dtypes"
   ]
  },
  {
   "cell_type": "code",
   "execution_count": 7,
   "id": "4a3cf913",
   "metadata": {},
   "outputs": [
    {
     "name": "stdout",
     "output_type": "stream",
     "text": [
      "[Int64, Datetime(time_unit='us', time_zone=None), Datetime(time_unit='us', time_zone=None), Int64, Float64, Int64, String, Int64, Int64, Int64, Float64, Float64, Float64, Float64, Float64, Float64, Float64, Float64, Float64]\n"
     ]
    }
   ],
   "source": [
    "df_cleaned = df.clone()\n",
    "print(df.dtypes)"
   ]
  },
  {
   "cell_type": "code",
   "execution_count": 8,
   "id": "258faa26",
   "metadata": {},
   "outputs": [],
   "source": [
    "df_cleaned = df_cleaned.select(\n",
    "    pl.exclude(['improvement_surcharge', 'store_and_fwd_flag'])\n",
    ")"
   ]
  },
  {
   "cell_type": "code",
   "execution_count": 9,
   "id": "8d5796dd",
   "metadata": {},
   "outputs": [
    {
     "name": "stdout",
     "output_type": "stream",
     "text": [
      "39656098\n"
     ]
    }
   ],
   "source": [
    "# how many rows are there in the sampled dataframe\n",
    "print(len(df_cleaned))"
   ]
  },
  {
   "cell_type": "code",
   "execution_count": 10,
   "id": "31d94679",
   "metadata": {},
   "outputs": [
    {
     "name": "stdout",
     "output_type": "stream",
     "text": [
      "Rows with all 4 values missing: shape: (1, 1)\n",
      "┌─────────────────┐\n",
      "│ passenger_count │\n",
      "│ ---             │\n",
      "│ u32             │\n",
      "╞═════════════════╡\n",
      "│ 1368303         │\n",
      "└─────────────────┘\n"
     ]
    }
   ],
   "source": [
    "missing_cols = ['passenger_count', 'RatecodeID', 'congestion_surcharge', 'airport_fee']\n",
    "\n",
    "# Create a boolean mask for rows where ALL 4 columns are NaN\n",
    "all_missing_mask = df_cleaned.select(\n",
    "    pl.all_horizontal(pl.col(missing_cols).is_null())\n",
    ")\n",
    "\n",
    "# Count how many rows this applies to\n",
    "num_all_missing = all_missing_mask.sum()\n",
    "\n",
    "print(f\"Rows with all 4 values missing: {num_all_missing}\")"
   ]
  },
  {
   "cell_type": "code",
   "execution_count": 11,
   "id": "7a83ddaf",
   "metadata": {},
   "outputs": [],
   "source": [
    "# Remove rows where ALL 4 columns are NaN\n",
    "df_cleaned = df_cleaned.filter(\n",
    "    ~pl.all_horizontal(pl.col(missing_cols).is_null())\n",
    ")"
   ]
  },
  {
   "cell_type": "code",
   "execution_count": 12,
   "id": "718f422d",
   "metadata": {},
   "outputs": [
    {
     "data": {
      "text/html": [
       "<div><style>\n",
       ".dataframe > thead > tr,\n",
       ".dataframe > tbody > tr {\n",
       "  text-align: right;\n",
       "  white-space: pre-wrap;\n",
       "}\n",
       "</style>\n",
       "<small>shape: (9, 18)</small><table border=\"1\" class=\"dataframe\"><thead><tr><th>statistic</th><th>VendorID</th><th>tpep_pickup_datetime</th><th>tpep_dropoff_datetime</th><th>passenger_count</th><th>trip_distance</th><th>RatecodeID</th><th>PULocationID</th><th>DOLocationID</th><th>payment_type</th><th>fare_amount</th><th>extra</th><th>mta_tax</th><th>tip_amount</th><th>tolls_amount</th><th>total_amount</th><th>congestion_surcharge</th><th>airport_fee</th></tr><tr><td>str</td><td>f64</td><td>str</td><td>str</td><td>f64</td><td>f64</td><td>f64</td><td>f64</td><td>f64</td><td>f64</td><td>f64</td><td>f64</td><td>f64</td><td>f64</td><td>f64</td><td>f64</td><td>f64</td><td>f64</td></tr></thead><tbody><tr><td>&quot;count&quot;</td><td>3.8287795e7</td><td>&quot;38287795&quot;</td><td>&quot;38287795&quot;</td><td>3.8287795e7</td><td>3.8287795e7</td><td>3.8287795e7</td><td>3.8287795e7</td><td>3.8287795e7</td><td>3.8287795e7</td><td>3.8287795e7</td><td>3.8287795e7</td><td>3.8287795e7</td><td>3.8287795e7</td><td>3.8287795e7</td><td>3.8287795e7</td><td>3.8287795e7</td><td>3.8287795e7</td></tr><tr><td>&quot;null_count&quot;</td><td>0.0</td><td>&quot;0&quot;</td><td>&quot;0&quot;</td><td>0.0</td><td>0.0</td><td>0.0</td><td>0.0</td><td>0.0</td><td>0.0</td><td>0.0</td><td>0.0</td><td>0.0</td><td>0.0</td><td>0.0</td><td>0.0</td><td>0.0</td><td>0.0</td></tr><tr><td>&quot;mean&quot;</td><td>1.713156</td><td>&quot;2022-07-05 00:02:30.606804&quot;</td><td>&quot;2022-07-05 00:57:11.752205&quot;</td><td>1.401149</td><td>3.514399</td><td>1.424172</td><td>164.929276</td><td>162.856345</td><td>1.232061</td><td>14.627631</td><td>1.040985</td><td>0.488537</td><td>2.7139</td><td>0.531059</td><td>21.423733</td><td>2.281437</td><td>0.097419</td></tr><tr><td>&quot;std&quot;</td><td>0.452288</td><td>null</td><td>null</td><td>0.962894</td><td>56.432458</td><td>5.794343</td><td>64.94462</td><td>70.157077</td><td>0.476083</td><td>97.43135</td><td>1.271069</td><td>0.095085</td><td>3.288837</td><td>2.031171</td><td>98.01355</td><td>0.751943</td><td>0.338539</td></tr><tr><td>&quot;min&quot;</td><td>1.0</td><td>&quot;2001-01-01 00:03:14&quot;</td><td>&quot;2001-01-01 00:34:17&quot;</td><td>0.0</td><td>0.0</td><td>1.0</td><td>1.0</td><td>1.0</td><td>1.0</td><td>-2564.0</td><td>-22.18</td><td>-0.55</td><td>-410.0</td><td>-99.99</td><td>-2567.8</td><td>-2.5</td><td>-1.25</td></tr><tr><td>&quot;25%&quot;</td><td>1.0</td><td>&quot;2022-04-07 19:04:37&quot;</td><td>&quot;2022-04-07 19:21:25&quot;</td><td>1.0</td><td>1.1</td><td>1.0</td><td>132.0</td><td>113.0</td><td>1.0</td><td>7.0</td><td>0.0</td><td>0.5</td><td>0.7</td><td>0.0</td><td>12.3</td><td>2.5</td><td>0.0</td></tr><tr><td>&quot;50%&quot;</td><td>2.0</td><td>&quot;2022-06-30 23:33:04&quot;</td><td>&quot;2022-06-30 23:50:20&quot;</td><td>1.0</td><td>1.86</td><td>1.0</td><td>162.0</td><td>162.0</td><td>1.0</td><td>10.0</td><td>0.5</td><td>0.5</td><td>2.15</td><td>0.0</td><td>15.95</td><td>2.5</td><td>0.0</td></tr><tr><td>&quot;75%&quot;</td><td>2.0</td><td>&quot;2022-10-04 17:04:53&quot;</td><td>&quot;2022-10-04 17:23:22&quot;</td><td>1.0</td><td>3.49</td><td>1.0</td><td>234.0</td><td>234.0</td><td>1.0</td><td>16.0</td><td>2.5</td><td>0.5</td><td>3.35</td><td>0.0</td><td>22.77</td><td>2.5</td><td>0.0</td></tr><tr><td>&quot;max&quot;</td><td>2.0</td><td>&quot;2023-04-18 14:30:05&quot;</td><td>&quot;2023-04-18 23:30:39&quot;</td><td>9.0</td><td>184340.8</td><td>99.0</td><td>265.0</td><td>265.0</td><td>5.0</td><td>401092.32</td><td>33.5</td><td>25.48</td><td>1400.16</td><td>911.87</td><td>401095.62</td><td>2.75</td><td>1.25</td></tr></tbody></table></div>"
      ],
      "text/plain": [
       "shape: (9, 18)\n",
       "┌───────────┬───────────┬───────────┬───────────┬───┬───────────┬───────────┬───────────┬──────────┐\n",
       "│ statistic ┆ VendorID  ┆ tpep_pick ┆ tpep_drop ┆ … ┆ tolls_amo ┆ total_amo ┆ congestio ┆ airport_ │\n",
       "│ ---       ┆ ---       ┆ up_dateti ┆ off_datet ┆   ┆ unt       ┆ unt       ┆ n_surchar ┆ fee      │\n",
       "│ str       ┆ f64       ┆ me        ┆ ime       ┆   ┆ ---       ┆ ---       ┆ ge        ┆ ---      │\n",
       "│           ┆           ┆ ---       ┆ ---       ┆   ┆ f64       ┆ f64       ┆ ---       ┆ f64      │\n",
       "│           ┆           ┆ str       ┆ str       ┆   ┆           ┆           ┆ f64       ┆          │\n",
       "╞═══════════╪═══════════╪═══════════╪═══════════╪═══╪═══════════╪═══════════╪═══════════╪══════════╡\n",
       "│ count     ┆ 3.8287795 ┆ 38287795  ┆ 38287795  ┆ … ┆ 3.8287795 ┆ 3.8287795 ┆ 3.8287795 ┆ 3.828779 │\n",
       "│           ┆ e7        ┆           ┆           ┆   ┆ e7        ┆ e7        ┆ e7        ┆ 5e7      │\n",
       "│ null_coun ┆ 0.0       ┆ 0         ┆ 0         ┆ … ┆ 0.0       ┆ 0.0       ┆ 0.0       ┆ 0.0      │\n",
       "│ t         ┆           ┆           ┆           ┆   ┆           ┆           ┆           ┆          │\n",
       "│ mean      ┆ 1.713156  ┆ 2022-07-0 ┆ 2022-07-0 ┆ … ┆ 0.531059  ┆ 21.423733 ┆ 2.281437  ┆ 0.097419 │\n",
       "│           ┆           ┆ 5 00:02:3 ┆ 5 00:57:1 ┆   ┆           ┆           ┆           ┆          │\n",
       "│           ┆           ┆ 0.606804  ┆ 1.752205  ┆   ┆           ┆           ┆           ┆          │\n",
       "│ std       ┆ 0.452288  ┆ null      ┆ null      ┆ … ┆ 2.031171  ┆ 98.01355  ┆ 0.751943  ┆ 0.338539 │\n",
       "│ min       ┆ 1.0       ┆ 2001-01-0 ┆ 2001-01-0 ┆ … ┆ -99.99    ┆ -2567.8   ┆ -2.5      ┆ -1.25    │\n",
       "│           ┆           ┆ 1         ┆ 1         ┆   ┆           ┆           ┆           ┆          │\n",
       "│           ┆           ┆ 00:03:14  ┆ 00:34:17  ┆   ┆           ┆           ┆           ┆          │\n",
       "│ 25%       ┆ 1.0       ┆ 2022-04-0 ┆ 2022-04-0 ┆ … ┆ 0.0       ┆ 12.3      ┆ 2.5       ┆ 0.0      │\n",
       "│           ┆           ┆ 7         ┆ 7         ┆   ┆           ┆           ┆           ┆          │\n",
       "│           ┆           ┆ 19:04:37  ┆ 19:21:25  ┆   ┆           ┆           ┆           ┆          │\n",
       "│ 50%       ┆ 2.0       ┆ 2022-06-3 ┆ 2022-06-3 ┆ … ┆ 0.0       ┆ 15.95     ┆ 2.5       ┆ 0.0      │\n",
       "│           ┆           ┆ 0         ┆ 0         ┆   ┆           ┆           ┆           ┆          │\n",
       "│           ┆           ┆ 23:33:04  ┆ 23:50:20  ┆   ┆           ┆           ┆           ┆          │\n",
       "│ 75%       ┆ 2.0       ┆ 2022-10-0 ┆ 2022-10-0 ┆ … ┆ 0.0       ┆ 22.77     ┆ 2.5       ┆ 0.0      │\n",
       "│           ┆           ┆ 4         ┆ 4         ┆   ┆           ┆           ┆           ┆          │\n",
       "│           ┆           ┆ 17:04:53  ┆ 17:23:22  ┆   ┆           ┆           ┆           ┆          │\n",
       "│ max       ┆ 2.0       ┆ 2023-04-1 ┆ 2023-04-1 ┆ … ┆ 911.87    ┆ 401095.62 ┆ 2.75      ┆ 1.25     │\n",
       "│           ┆           ┆ 8         ┆ 8         ┆   ┆           ┆           ┆           ┆          │\n",
       "│           ┆           ┆ 14:30:05  ┆ 23:30:39  ┆   ┆           ┆           ┆           ┆          │\n",
       "└───────────┴───────────┴───────────┴───────────┴───┴───────────┴───────────┴───────────┴──────────┘"
      ]
     },
     "execution_count": 12,
     "metadata": {},
     "output_type": "execute_result"
    }
   ],
   "source": [
    "# get database statistics\n",
    "df_cleaned.describe()"
   ]
  },
  {
   "cell_type": "code",
   "execution_count": 13,
   "id": "ff69b682",
   "metadata": {},
   "outputs": [
    {
     "name": "stdout",
     "output_type": "stream",
     "text": [
      "shape: (10, 17)\n",
      "┌──────────┬──────────────────────┬───────────────────────┬─────────────────┬───────────────┬────────────┬──────────────┬──────────────┬──────────────┬─────────────┬───────┬─────────┬────────────┬──────────────┬──────────────┬──────────────────────┬─────────────┐\n",
      "│ VendorID ┆ tpep_pickup_datetime ┆ tpep_dropoff_datetime ┆ passenger_count ┆ trip_distance ┆ RatecodeID ┆ PULocationID ┆ DOLocationID ┆ payment_type ┆ fare_amount ┆ extra ┆ mta_tax ┆ tip_amount ┆ tolls_amount ┆ total_amount ┆ congestion_surcharge ┆ airport_fee │\n",
      "│ ---      ┆ ---                  ┆ ---                   ┆ ---             ┆ ---           ┆ ---        ┆ ---          ┆ ---          ┆ ---          ┆ ---         ┆ ---   ┆ ---     ┆ ---        ┆ ---          ┆ ---          ┆ ---                  ┆ ---         │\n",
      "│ i64      ┆ datetime[μs]         ┆ datetime[μs]          ┆ i64             ┆ f64           ┆ i64        ┆ i64          ┆ i64          ┆ i64          ┆ f64         ┆ f64   ┆ f64     ┆ f64        ┆ f64          ┆ f64          ┆ f64                  ┆ f64         │\n",
      "╞══════════╪══════════════════════╪═══════════════════════╪═════════════════╪═══════════════╪════════════╪══════════════╪══════════════╪══════════════╪═════════════╪═══════╪═════════╪════════════╪══════════════╪══════════════╪══════════════════════╪═════════════╡\n",
      "│ 2        ┆ 2022-06-24 08:24:35  ┆ 2022-06-24 08:32:20   ┆ 1               ┆ 184340.8      ┆ 5          ┆ 113          ┆ 107          ┆ 2            ┆ 38.08       ┆ 0.0   ┆ 0.5     ┆ 0.0        ┆ 0.0          ┆ 41.38        ┆ 2.5                  ┆ 0.0         │\n",
      "├╌╌╌╌╌╌╌╌╌╌┼╌╌╌╌╌╌╌╌╌╌╌╌╌╌╌╌╌╌╌╌╌╌┼╌╌╌╌╌╌╌╌╌╌╌╌╌╌╌╌╌╌╌╌╌╌╌┼╌╌╌╌╌╌╌╌╌╌╌╌╌╌╌╌╌┼╌╌╌╌╌╌╌╌╌╌╌╌╌╌╌┼╌╌╌╌╌╌╌╌╌╌╌╌┼╌╌╌╌╌╌╌╌╌╌╌╌╌╌┼╌╌╌╌╌╌╌╌╌╌╌╌╌╌┼╌╌╌╌╌╌╌╌╌╌╌╌╌╌┼╌╌╌╌╌╌╌╌╌╌╌╌╌┼╌╌╌╌╌╌╌┼╌╌╌╌╌╌╌╌╌┼╌╌╌╌╌╌╌╌╌╌╌╌┼╌╌╌╌╌╌╌╌╌╌╌╌╌╌┼╌╌╌╌╌╌╌╌╌╌╌╌╌╌┼╌╌╌╌╌╌╌╌╌╌╌╌╌╌╌╌╌╌╌╌╌╌┼╌╌╌╌╌╌╌╌╌╌╌╌╌┤\n",
      "│ 2        ┆ 2022-09-01 09:04:30  ┆ 2022-09-01 09:15:17   ┆ 1               ┆ 164072.79     ┆ 5          ┆ 262          ┆ 238          ┆ 1            ┆ 16.0        ┆ 0.0   ┆ 0.5     ┆ 3.24       ┆ 0.0          ┆ 22.54        ┆ 2.5                  ┆ 0.0         │\n",
      "├╌╌╌╌╌╌╌╌╌╌┼╌╌╌╌╌╌╌╌╌╌╌╌╌╌╌╌╌╌╌╌╌╌┼╌╌╌╌╌╌╌╌╌╌╌╌╌╌╌╌╌╌╌╌╌╌╌┼╌╌╌╌╌╌╌╌╌╌╌╌╌╌╌╌╌┼╌╌╌╌╌╌╌╌╌╌╌╌╌╌╌┼╌╌╌╌╌╌╌╌╌╌╌╌┼╌╌╌╌╌╌╌╌╌╌╌╌╌╌┼╌╌╌╌╌╌╌╌╌╌╌╌╌╌┼╌╌╌╌╌╌╌╌╌╌╌╌╌╌┼╌╌╌╌╌╌╌╌╌╌╌╌╌┼╌╌╌╌╌╌╌┼╌╌╌╌╌╌╌╌╌┼╌╌╌╌╌╌╌╌╌╌╌╌┼╌╌╌╌╌╌╌╌╌╌╌╌╌╌┼╌╌╌╌╌╌╌╌╌╌╌╌╌╌┼╌╌╌╌╌╌╌╌╌╌╌╌╌╌╌╌╌╌╌╌╌╌┼╌╌╌╌╌╌╌╌╌╌╌╌╌┤\n",
      "│ 2        ┆ 2022-08-21 19:12:22  ┆ 2022-08-21 19:21:02   ┆ 1               ┆ 115324.12     ┆ 5          ┆ 75           ┆ 141          ┆ 1            ┆ 8.81        ┆ 0.0   ┆ 0.5     ┆ 0.93       ┆ 0.0          ┆ 13.04        ┆ 2.5                  ┆ 0.0         │\n",
      "├╌╌╌╌╌╌╌╌╌╌┼╌╌╌╌╌╌╌╌╌╌╌╌╌╌╌╌╌╌╌╌╌╌┼╌╌╌╌╌╌╌╌╌╌╌╌╌╌╌╌╌╌╌╌╌╌╌┼╌╌╌╌╌╌╌╌╌╌╌╌╌╌╌╌╌┼╌╌╌╌╌╌╌╌╌╌╌╌╌╌╌┼╌╌╌╌╌╌╌╌╌╌╌╌┼╌╌╌╌╌╌╌╌╌╌╌╌╌╌┼╌╌╌╌╌╌╌╌╌╌╌╌╌╌┼╌╌╌╌╌╌╌╌╌╌╌╌╌╌┼╌╌╌╌╌╌╌╌╌╌╌╌╌┼╌╌╌╌╌╌╌┼╌╌╌╌╌╌╌╌╌┼╌╌╌╌╌╌╌╌╌╌╌╌┼╌╌╌╌╌╌╌╌╌╌╌╌╌╌┼╌╌╌╌╌╌╌╌╌╌╌╌╌╌┼╌╌╌╌╌╌╌╌╌╌╌╌╌╌╌╌╌╌╌╌╌╌┼╌╌╌╌╌╌╌╌╌╌╌╌╌┤\n",
      "│ 2        ┆ 2022-06-14 07:35:51  ┆ 2022-06-14 08:15:36   ┆ 1               ┆ 108786.09     ┆ 5          ┆ 14           ┆ 163          ┆ 1            ┆ 39.7        ┆ 0.0   ┆ 0.5     ┆ 10.8       ┆ 6.55         ┆ 60.35        ┆ 2.5                  ┆ 0.0         │\n",
      "├╌╌╌╌╌╌╌╌╌╌┼╌╌╌╌╌╌╌╌╌╌╌╌╌╌╌╌╌╌╌╌╌╌┼╌╌╌╌╌╌╌╌╌╌╌╌╌╌╌╌╌╌╌╌╌╌╌┼╌╌╌╌╌╌╌╌╌╌╌╌╌╌╌╌╌┼╌╌╌╌╌╌╌╌╌╌╌╌╌╌╌┼╌╌╌╌╌╌╌╌╌╌╌╌┼╌╌╌╌╌╌╌╌╌╌╌╌╌╌┼╌╌╌╌╌╌╌╌╌╌╌╌╌╌┼╌╌╌╌╌╌╌╌╌╌╌╌╌╌┼╌╌╌╌╌╌╌╌╌╌╌╌╌┼╌╌╌╌╌╌╌┼╌╌╌╌╌╌╌╌╌┼╌╌╌╌╌╌╌╌╌╌╌╌┼╌╌╌╌╌╌╌╌╌╌╌╌╌╌┼╌╌╌╌╌╌╌╌╌╌╌╌╌╌┼╌╌╌╌╌╌╌╌╌╌╌╌╌╌╌╌╌╌╌╌╌╌┼╌╌╌╌╌╌╌╌╌╌╌╌╌┤\n",
      "│ 2        ┆ 2022-11-25 05:58:45  ┆ 2022-11-25 05:59:59   ┆ 1               ┆ 103319.46     ┆ 5          ┆ 166          ┆ 166          ┆ 3            ┆ -8.38       ┆ 0.0   ┆ -0.5    ┆ -0.68      ┆ 0.0          ┆ -9.56        ┆ 0.0                  ┆ 0.0         │\n",
      "├╌╌╌╌╌╌╌╌╌╌┼╌╌╌╌╌╌╌╌╌╌╌╌╌╌╌╌╌╌╌╌╌╌┼╌╌╌╌╌╌╌╌╌╌╌╌╌╌╌╌╌╌╌╌╌╌╌┼╌╌╌╌╌╌╌╌╌╌╌╌╌╌╌╌╌┼╌╌╌╌╌╌╌╌╌╌╌╌╌╌╌┼╌╌╌╌╌╌╌╌╌╌╌╌┼╌╌╌╌╌╌╌╌╌╌╌╌╌╌┼╌╌╌╌╌╌╌╌╌╌╌╌╌╌┼╌╌╌╌╌╌╌╌╌╌╌╌╌╌┼╌╌╌╌╌╌╌╌╌╌╌╌╌┼╌╌╌╌╌╌╌┼╌╌╌╌╌╌╌╌╌┼╌╌╌╌╌╌╌╌╌╌╌╌┼╌╌╌╌╌╌╌╌╌╌╌╌╌╌┼╌╌╌╌╌╌╌╌╌╌╌╌╌╌┼╌╌╌╌╌╌╌╌╌╌╌╌╌╌╌╌╌╌╌╌╌╌┼╌╌╌╌╌╌╌╌╌╌╌╌╌┤\n",
      "│ 2        ┆ 2022-11-25 05:58:45  ┆ 2022-11-25 05:59:59   ┆ 1               ┆ 103319.46     ┆ 5          ┆ 166          ┆ 166          ┆ 3            ┆ 8.08        ┆ 0.0   ┆ 0.5     ┆ 0.68       ┆ 0.0          ┆ 9.56         ┆ 0.0                  ┆ 0.0         │\n",
      "├╌╌╌╌╌╌╌╌╌╌┼╌╌╌╌╌╌╌╌╌╌╌╌╌╌╌╌╌╌╌╌╌╌┼╌╌╌╌╌╌╌╌╌╌╌╌╌╌╌╌╌╌╌╌╌╌╌┼╌╌╌╌╌╌╌╌╌╌╌╌╌╌╌╌╌┼╌╌╌╌╌╌╌╌╌╌╌╌╌╌╌┼╌╌╌╌╌╌╌╌╌╌╌╌┼╌╌╌╌╌╌╌╌╌╌╌╌╌╌┼╌╌╌╌╌╌╌╌╌╌╌╌╌╌┼╌╌╌╌╌╌╌╌╌╌╌╌╌╌┼╌╌╌╌╌╌╌╌╌╌╌╌╌┼╌╌╌╌╌╌╌┼╌╌╌╌╌╌╌╌╌┼╌╌╌╌╌╌╌╌╌╌╌╌┼╌╌╌╌╌╌╌╌╌╌╌╌╌╌┼╌╌╌╌╌╌╌╌╌╌╌╌╌╌┼╌╌╌╌╌╌╌╌╌╌╌╌╌╌╌╌╌╌╌╌╌╌┼╌╌╌╌╌╌╌╌╌╌╌╌╌┤\n",
      "│ 2        ┆ 2022-03-24 13:56:56  ┆ 2022-03-24 13:58:14   ┆ 1               ┆ 53440.55      ┆ 5          ┆ 193          ┆ 193          ┆ 1            ┆ 26.55       ┆ 0.0   ┆ 0.5     ┆ 5.47       ┆ 0.0          ┆ 34.77        ┆ 0.0                  ┆ 0.0         │\n",
      "├╌╌╌╌╌╌╌╌╌╌┼╌╌╌╌╌╌╌╌╌╌╌╌╌╌╌╌╌╌╌╌╌╌┼╌╌╌╌╌╌╌╌╌╌╌╌╌╌╌╌╌╌╌╌╌╌╌┼╌╌╌╌╌╌╌╌╌╌╌╌╌╌╌╌╌┼╌╌╌╌╌╌╌╌╌╌╌╌╌╌╌┼╌╌╌╌╌╌╌╌╌╌╌╌┼╌╌╌╌╌╌╌╌╌╌╌╌╌╌┼╌╌╌╌╌╌╌╌╌╌╌╌╌╌┼╌╌╌╌╌╌╌╌╌╌╌╌╌╌┼╌╌╌╌╌╌╌╌╌╌╌╌╌┼╌╌╌╌╌╌╌┼╌╌╌╌╌╌╌╌╌┼╌╌╌╌╌╌╌╌╌╌╌╌┼╌╌╌╌╌╌╌╌╌╌╌╌╌╌┼╌╌╌╌╌╌╌╌╌╌╌╌╌╌┼╌╌╌╌╌╌╌╌╌╌╌╌╌╌╌╌╌╌╌╌╌╌┼╌╌╌╌╌╌╌╌╌╌╌╌╌┤\n",
      "│ 2        ┆ 2022-12-06 19:03:31  ┆ 2022-12-06 19:15:46   ┆ 1               ┆ 43918.95      ┆ 4          ┆ 186          ┆ 170          ┆ 4            ┆ -42.09      ┆ 0.0   ┆ 0.0     ┆ 0.0        ┆ 0.0          ┆ -44.59       ┆ -2.5                 ┆ 0.0         │\n",
      "├╌╌╌╌╌╌╌╌╌╌┼╌╌╌╌╌╌╌╌╌╌╌╌╌╌╌╌╌╌╌╌╌╌┼╌╌╌╌╌╌╌╌╌╌╌╌╌╌╌╌╌╌╌╌╌╌╌┼╌╌╌╌╌╌╌╌╌╌╌╌╌╌╌╌╌┼╌╌╌╌╌╌╌╌╌╌╌╌╌╌╌┼╌╌╌╌╌╌╌╌╌╌╌╌┼╌╌╌╌╌╌╌╌╌╌╌╌╌╌┼╌╌╌╌╌╌╌╌╌╌╌╌╌╌┼╌╌╌╌╌╌╌╌╌╌╌╌╌╌┼╌╌╌╌╌╌╌╌╌╌╌╌╌┼╌╌╌╌╌╌╌┼╌╌╌╌╌╌╌╌╌┼╌╌╌╌╌╌╌╌╌╌╌╌┼╌╌╌╌╌╌╌╌╌╌╌╌╌╌┼╌╌╌╌╌╌╌╌╌╌╌╌╌╌┼╌╌╌╌╌╌╌╌╌╌╌╌╌╌╌╌╌╌╌╌╌╌┼╌╌╌╌╌╌╌╌╌╌╌╌╌┤\n",
      "│ 2        ┆ 2022-12-06 19:03:31  ┆ 2022-12-06 19:15:46   ┆ 1               ┆ 43918.95      ┆ 4          ┆ 186          ┆ 170          ┆ 4            ┆ 42.09       ┆ 0.0   ┆ 0.0     ┆ 0.0        ┆ 0.0          ┆ 44.59        ┆ 2.5                  ┆ 0.0         │\n",
      "├╌╌╌╌╌╌╌╌╌╌┼╌╌╌╌╌╌╌╌╌╌╌╌╌╌╌╌╌╌╌╌╌╌┼╌╌╌╌╌╌╌╌╌╌╌╌╌╌╌╌╌╌╌╌╌╌╌┼╌╌╌╌╌╌╌╌╌╌╌╌╌╌╌╌╌┼╌╌╌╌╌╌╌╌╌╌╌╌╌╌╌┼╌╌╌╌╌╌╌╌╌╌╌╌┼╌╌╌╌╌╌╌╌╌╌╌╌╌╌┼╌╌╌╌╌╌╌╌╌╌╌╌╌╌┼╌╌╌╌╌╌╌╌╌╌╌╌╌╌┼╌╌╌╌╌╌╌╌╌╌╌╌╌┼╌╌╌╌╌╌╌┼╌╌╌╌╌╌╌╌╌┼╌╌╌╌╌╌╌╌╌╌╌╌┼╌╌╌╌╌╌╌╌╌╌╌╌╌╌┼╌╌╌╌╌╌╌╌╌╌╌╌╌╌┼╌╌╌╌╌╌╌╌╌╌╌╌╌╌╌╌╌╌╌╌╌╌┼╌╌╌╌╌╌╌╌╌╌╌╌╌┤\n",
      "│ 2        ┆ 2022-05-05 06:03:36  ┆ 2022-05-05 06:14:37   ┆ 1               ┆ 29445.65      ┆ 5          ┆ 263          ┆ 107          ┆ 1            ┆ 12.06       ┆ 0.0   ┆ 0.5     ┆ 1.18       ┆ 0.0          ┆ 16.54        ┆ 2.5                  ┆ 0.0         │\n",
      "└──────────┴──────────────────────┴───────────────────────┴─────────────────┴───────────────┴────────────┴──────────────┴──────────────┴──────────────┴─────────────┴───────┴─────────┴────────────┴──────────────┴──────────────┴──────────────────────┴─────────────┘\n"
     ]
    }
   ],
   "source": [
    "# print rows where trip distance is greater than 100 miles\n",
    "# and sort them in descending order, and decending by total_amount\n",
    "# Set display options before printing\n",
    "pl.Config.set_tbl_formatting(\"UTF8_FULL\")  # For better border characters\n",
    "pl.Config.set_tbl_width_chars(300)         # Total display width in characters\n",
    "pl.Config.set_tbl_cols(50)                # Max columns to display (-1 for all)\n",
    "pl.Config.set_tbl_rows(20)                # Max rows to display (-1 for all)\n",
    "pl.Config.set_fmt_str_lengths(50)         # Max string length to display\n",
    "\n",
    "result = (\n",
    "    df_cleaned.lazy()\n",
    "    .filter(pl.col(\"trip_distance\") > 100)\n",
    "    .sort(\"trip_distance\", descending=True)\n",
    "    .head(10)\n",
    "    .collect()\n",
    ")\n",
    "\n",
    "print(result)"
   ]
  },
  {
   "cell_type": "code",
   "execution_count": 14,
   "id": "46f78628",
   "metadata": {},
   "outputs": [
    {
     "data": {
      "image/png": "[encoded data removed]",
      "text/plain": [
       "<Figure size 640x480 with 1 Axes>"
      ]
     },
     "metadata": {},
     "output_type": "display_data"
    }
   ],
   "source": [
    "import matplotlib.pyplot as plt\n",
    "\n",
    "clipped_data = (\n",
    "    df_cleaned.select(\n",
    "        pl.when(pl.col(\"trip_distance\") > 35)\n",
    "        .then(35)\n",
    "        .otherwise(pl.col(\"trip_distance\"))\n",
    "        .alias(\"clipped_distance\")\n",
    "    )\n",
    "    .to_series()\n",
    "    .to_numpy()\n",
    ")\n",
    "\n",
    "# Generate histogram\n",
    "plt.hist(clipped_data, bins=100)\n",
    "plt.title(\"Trip Distance Distribution (Clipped at 35 miles)\")\n",
    "plt.xlabel(\"Miles\")\n",
    "plt.ylabel(\"Frequency\")\n",
    "plt.show()\n"
   ]
  },
  {
   "cell_type": "code",
   "execution_count": 15,
   "id": "30c0afe5",
   "metadata": {},
   "outputs": [
    {
     "name": "stdout",
     "output_type": "stream",
     "text": [
      "shape: (9, 1)\n",
      "┌──────────────────────┐\n",
      "│ tpep_pickup_datetime │\n",
      "│ ---                  │\n",
      "│ struct[2]            │\n",
      "╞══════════════════════╡\n",
      "│ {2022,38287234}      │\n",
      "├╌╌╌╌╌╌╌╌╌╌╌╌╌╌╌╌╌╌╌╌╌╌┤\n",
      "│ {2002,441}           │\n",
      "├╌╌╌╌╌╌╌╌╌╌╌╌╌╌╌╌╌╌╌╌╌╌┤\n",
      "│ {2009,40}            │\n",
      "├╌╌╌╌╌╌╌╌╌╌╌╌╌╌╌╌╌╌╌╌╌╌┤\n",
      "│ {2008,34}            │\n",
      "├╌╌╌╌╌╌╌╌╌╌╌╌╌╌╌╌╌╌╌╌╌╌┤\n",
      "│ {2021,24}            │\n",
      "├╌╌╌╌╌╌╌╌╌╌╌╌╌╌╌╌╌╌╌╌╌╌┤\n",
      "│ {2003,9}             │\n",
      "├╌╌╌╌╌╌╌╌╌╌╌╌╌╌╌╌╌╌╌╌╌╌┤\n",
      "│ {2001,6}             │\n",
      "├╌╌╌╌╌╌╌╌╌╌╌╌╌╌╌╌╌╌╌╌╌╌┤\n",
      "│ {2023,6}             │\n",
      "├╌╌╌╌╌╌╌╌╌╌╌╌╌╌╌╌╌╌╌╌╌╌┤\n",
      "│ {2012,1}             │\n",
      "└──────────────────────┘\n"
     ]
    }
   ],
   "source": [
    "# check how many entries are from different years in 'tpep_pickup_datetime' column\n",
    "print(\n",
    "    df_cleaned.select(\n",
    "        pl.col(\"tpep_pickup_datetime\").dt.year().value_counts(sort=True)\n",
    "    )\n",
    ")"
   ]
  },
  {
   "cell_type": "code",
   "execution_count": 16,
   "id": "27b5c2c6",
   "metadata": {},
   "outputs": [],
   "source": [
    "# only keep the rows from 2022\n",
    "df_cleaned = df_cleaned.filter(\n",
    "    pl.col(\"tpep_pickup_datetime\").dt.year() == 2022\n",
    ")"
   ]
  },
  {
   "cell_type": "code",
   "execution_count": 17,
   "id": "d17f08df",
   "metadata": {},
   "outputs": [
    {
     "name": "stdout",
     "output_type": "stream",
     "text": [
      "shape: (38_266_386, 17)\n",
      "┌──────────┬──────────────────────┬───────────────────────┬─────────────────┬───────────────┬────────────┬──────────────┬──────────────┬──────────────┬─────────────┬───────┬─────────┬────────────┬──────────────┬──────────────┬──────────────────────┬─────────────┐\n",
      "│ VendorID ┆ tpep_pickup_datetime ┆ tpep_dropoff_datetime ┆ passenger_count ┆ trip_distance ┆ RatecodeID ┆ PULocationID ┆ DOLocationID ┆ payment_type ┆ fare_amount ┆ extra ┆ mta_tax ┆ tip_amount ┆ tolls_amount ┆ total_amount ┆ congestion_surcharge ┆ airport_fee │\n",
      "│ ---      ┆ ---                  ┆ ---                   ┆ ---             ┆ ---           ┆ ---        ┆ ---          ┆ ---          ┆ ---          ┆ ---         ┆ ---   ┆ ---     ┆ ---        ┆ ---          ┆ ---          ┆ ---                  ┆ ---         │\n",
      "│ i64      ┆ datetime[μs]         ┆ datetime[μs]          ┆ i64             ┆ f64           ┆ i64        ┆ i64          ┆ i64          ┆ i64          ┆ f64         ┆ f64   ┆ f64     ┆ f64        ┆ f64          ┆ f64          ┆ f64                  ┆ f64         │\n",
      "╞══════════╪══════════════════════╪═══════════════════════╪═════════════════╪═══════════════╪════════════╪══════════════╪══════════════╪══════════════╪═════════════╪═══════╪═════════╪════════════╪══════════════╪══════════════╪══════════════════════╪═════════════╡\n",
      "│ 1        ┆ 2022-01-01 00:35:40  ┆ 2022-01-01 00:53:29   ┆ 2               ┆ 3.8           ┆ 1          ┆ 142          ┆ 236          ┆ 1            ┆ 14.5        ┆ 3.0   ┆ 0.5     ┆ 3.65       ┆ 0.0          ┆ 21.95        ┆ 2.5                  ┆ 0.0         │\n",
      "├╌╌╌╌╌╌╌╌╌╌┼╌╌╌╌╌╌╌╌╌╌╌╌╌╌╌╌╌╌╌╌╌╌┼╌╌╌╌╌╌╌╌╌╌╌╌╌╌╌╌╌╌╌╌╌╌╌┼╌╌╌╌╌╌╌╌╌╌╌╌╌╌╌╌╌┼╌╌╌╌╌╌╌╌╌╌╌╌╌╌╌┼╌╌╌╌╌╌╌╌╌╌╌╌┼╌╌╌╌╌╌╌╌╌╌╌╌╌╌┼╌╌╌╌╌╌╌╌╌╌╌╌╌╌┼╌╌╌╌╌╌╌╌╌╌╌╌╌╌┼╌╌╌╌╌╌╌╌╌╌╌╌╌┼╌╌╌╌╌╌╌┼╌╌╌╌╌╌╌╌╌┼╌╌╌╌╌╌╌╌╌╌╌╌┼╌╌╌╌╌╌╌╌╌╌╌╌╌╌┼╌╌╌╌╌╌╌╌╌╌╌╌╌╌┼╌╌╌╌╌╌╌╌╌╌╌╌╌╌╌╌╌╌╌╌╌╌┼╌╌╌╌╌╌╌╌╌╌╌╌╌┤\n",
      "│ 1        ┆ 2022-01-01 00:33:43  ┆ 2022-01-01 00:42:07   ┆ 1               ┆ 2.1           ┆ 1          ┆ 236          ┆ 42           ┆ 1            ┆ 8.0         ┆ 0.5   ┆ 0.5     ┆ 4.0        ┆ 0.0          ┆ 13.3         ┆ 0.0                  ┆ 0.0         │\n",
      "├╌╌╌╌╌╌╌╌╌╌┼╌╌╌╌╌╌╌╌╌╌╌╌╌╌╌╌╌╌╌╌╌╌┼╌╌╌╌╌╌╌╌╌╌╌╌╌╌╌╌╌╌╌╌╌╌╌┼╌╌╌╌╌╌╌╌╌╌╌╌╌╌╌╌╌┼╌╌╌╌╌╌╌╌╌╌╌╌╌╌╌┼╌╌╌╌╌╌╌╌╌╌╌╌┼╌╌╌╌╌╌╌╌╌╌╌╌╌╌┼╌╌╌╌╌╌╌╌╌╌╌╌╌╌┼╌╌╌╌╌╌╌╌╌╌╌╌╌╌┼╌╌╌╌╌╌╌╌╌╌╌╌╌┼╌╌╌╌╌╌╌┼╌╌╌╌╌╌╌╌╌┼╌╌╌╌╌╌╌╌╌╌╌╌┼╌╌╌╌╌╌╌╌╌╌╌╌╌╌┼╌╌╌╌╌╌╌╌╌╌╌╌╌╌┼╌╌╌╌╌╌╌╌╌╌╌╌╌╌╌╌╌╌╌╌╌╌┼╌╌╌╌╌╌╌╌╌╌╌╌╌┤\n",
      "│ 2        ┆ 2022-01-01 00:53:21  ┆ 2022-01-01 01:02:19   ┆ 1               ┆ 0.97          ┆ 1          ┆ 166          ┆ 166          ┆ 1            ┆ 7.5         ┆ 0.5   ┆ 0.5     ┆ 1.76       ┆ 0.0          ┆ 10.56        ┆ 0.0                  ┆ 0.0         │\n",
      "├╌╌╌╌╌╌╌╌╌╌┼╌╌╌╌╌╌╌╌╌╌╌╌╌╌╌╌╌╌╌╌╌╌┼╌╌╌╌╌╌╌╌╌╌╌╌╌╌╌╌╌╌╌╌╌╌╌┼╌╌╌╌╌╌╌╌╌╌╌╌╌╌╌╌╌┼╌╌╌╌╌╌╌╌╌╌╌╌╌╌╌┼╌╌╌╌╌╌╌╌╌╌╌╌┼╌╌╌╌╌╌╌╌╌╌╌╌╌╌┼╌╌╌╌╌╌╌╌╌╌╌╌╌╌┼╌╌╌╌╌╌╌╌╌╌╌╌╌╌┼╌╌╌╌╌╌╌╌╌╌╌╌╌┼╌╌╌╌╌╌╌┼╌╌╌╌╌╌╌╌╌┼╌╌╌╌╌╌╌╌╌╌╌╌┼╌╌╌╌╌╌╌╌╌╌╌╌╌╌┼╌╌╌╌╌╌╌╌╌╌╌╌╌╌┼╌╌╌╌╌╌╌╌╌╌╌╌╌╌╌╌╌╌╌╌╌╌┼╌╌╌╌╌╌╌╌╌╌╌╌╌┤\n",
      "│ 2        ┆ 2022-01-01 00:25:21  ┆ 2022-01-01 00:35:23   ┆ 1               ┆ 1.09          ┆ 1          ┆ 114          ┆ 68           ┆ 2            ┆ 8.0         ┆ 0.5   ┆ 0.5     ┆ 0.0        ┆ 0.0          ┆ 11.8         ┆ 2.5                  ┆ 0.0         │\n",
      "├╌╌╌╌╌╌╌╌╌╌┼╌╌╌╌╌╌╌╌╌╌╌╌╌╌╌╌╌╌╌╌╌╌┼╌╌╌╌╌╌╌╌╌╌╌╌╌╌╌╌╌╌╌╌╌╌╌┼╌╌╌╌╌╌╌╌╌╌╌╌╌╌╌╌╌┼╌╌╌╌╌╌╌╌╌╌╌╌╌╌╌┼╌╌╌╌╌╌╌╌╌╌╌╌┼╌╌╌╌╌╌╌╌╌╌╌╌╌╌┼╌╌╌╌╌╌╌╌╌╌╌╌╌╌┼╌╌╌╌╌╌╌╌╌╌╌╌╌╌┼╌╌╌╌╌╌╌╌╌╌╌╌╌┼╌╌╌╌╌╌╌┼╌╌╌╌╌╌╌╌╌┼╌╌╌╌╌╌╌╌╌╌╌╌┼╌╌╌╌╌╌╌╌╌╌╌╌╌╌┼╌╌╌╌╌╌╌╌╌╌╌╌╌╌┼╌╌╌╌╌╌╌╌╌╌╌╌╌╌╌╌╌╌╌╌╌╌┼╌╌╌╌╌╌╌╌╌╌╌╌╌┤\n",
      "│ 2        ┆ 2022-01-01 00:36:48  ┆ 2022-01-01 01:14:20   ┆ 1               ┆ 4.3           ┆ 1          ┆ 68           ┆ 163          ┆ 1            ┆ 23.5        ┆ 0.5   ┆ 0.5     ┆ 3.0        ┆ 0.0          ┆ 30.3         ┆ 2.5                  ┆ 0.0         │\n",
      "├╌╌╌╌╌╌╌╌╌╌┼╌╌╌╌╌╌╌╌╌╌╌╌╌╌╌╌╌╌╌╌╌╌┼╌╌╌╌╌╌╌╌╌╌╌╌╌╌╌╌╌╌╌╌╌╌╌┼╌╌╌╌╌╌╌╌╌╌╌╌╌╌╌╌╌┼╌╌╌╌╌╌╌╌╌╌╌╌╌╌╌┼╌╌╌╌╌╌╌╌╌╌╌╌┼╌╌╌╌╌╌╌╌╌╌╌╌╌╌┼╌╌╌╌╌╌╌╌╌╌╌╌╌╌┼╌╌╌╌╌╌╌╌╌╌╌╌╌╌┼╌╌╌╌╌╌╌╌╌╌╌╌╌┼╌╌╌╌╌╌╌┼╌╌╌╌╌╌╌╌╌┼╌╌╌╌╌╌╌╌╌╌╌╌┼╌╌╌╌╌╌╌╌╌╌╌╌╌╌┼╌╌╌╌╌╌╌╌╌╌╌╌╌╌┼╌╌╌╌╌╌╌╌╌╌╌╌╌╌╌╌╌╌╌╌╌╌┼╌╌╌╌╌╌╌╌╌╌╌╌╌┤\n",
      "│ 1        ┆ 2022-01-01 00:40:15  ┆ 2022-01-01 01:09:48   ┆ 1               ┆ 10.3          ┆ 1          ┆ 138          ┆ 161          ┆ 1            ┆ 33.0        ┆ 3.0   ┆ 0.5     ┆ 13.0       ┆ 6.55         ┆ 56.35        ┆ 2.5                  ┆ 0.0         │\n",
      "├╌╌╌╌╌╌╌╌╌╌┼╌╌╌╌╌╌╌╌╌╌╌╌╌╌╌╌╌╌╌╌╌╌┼╌╌╌╌╌╌╌╌╌╌╌╌╌╌╌╌╌╌╌╌╌╌╌┼╌╌╌╌╌╌╌╌╌╌╌╌╌╌╌╌╌┼╌╌╌╌╌╌╌╌╌╌╌╌╌╌╌┼╌╌╌╌╌╌╌╌╌╌╌╌┼╌╌╌╌╌╌╌╌╌╌╌╌╌╌┼╌╌╌╌╌╌╌╌╌╌╌╌╌╌┼╌╌╌╌╌╌╌╌╌╌╌╌╌╌┼╌╌╌╌╌╌╌╌╌╌╌╌╌┼╌╌╌╌╌╌╌┼╌╌╌╌╌╌╌╌╌┼╌╌╌╌╌╌╌╌╌╌╌╌┼╌╌╌╌╌╌╌╌╌╌╌╌╌╌┼╌╌╌╌╌╌╌╌╌╌╌╌╌╌┼╌╌╌╌╌╌╌╌╌╌╌╌╌╌╌╌╌╌╌╌╌╌┼╌╌╌╌╌╌╌╌╌╌╌╌╌┤\n",
      "│ 2        ┆ 2022-01-01 00:20:50  ┆ 2022-01-01 00:34:58   ┆ 1               ┆ 5.07          ┆ 1          ┆ 233          ┆ 87           ┆ 1            ┆ 17.0        ┆ 0.5   ┆ 0.5     ┆ 5.2        ┆ 0.0          ┆ 26.0         ┆ 2.5                  ┆ 0.0         │\n",
      "├╌╌╌╌╌╌╌╌╌╌┼╌╌╌╌╌╌╌╌╌╌╌╌╌╌╌╌╌╌╌╌╌╌┼╌╌╌╌╌╌╌╌╌╌╌╌╌╌╌╌╌╌╌╌╌╌╌┼╌╌╌╌╌╌╌╌╌╌╌╌╌╌╌╌╌┼╌╌╌╌╌╌╌╌╌╌╌╌╌╌╌┼╌╌╌╌╌╌╌╌╌╌╌╌┼╌╌╌╌╌╌╌╌╌╌╌╌╌╌┼╌╌╌╌╌╌╌╌╌╌╌╌╌╌┼╌╌╌╌╌╌╌╌╌╌╌╌╌╌┼╌╌╌╌╌╌╌╌╌╌╌╌╌┼╌╌╌╌╌╌╌┼╌╌╌╌╌╌╌╌╌┼╌╌╌╌╌╌╌╌╌╌╌╌┼╌╌╌╌╌╌╌╌╌╌╌╌╌╌┼╌╌╌╌╌╌╌╌╌╌╌╌╌╌┼╌╌╌╌╌╌╌╌╌╌╌╌╌╌╌╌╌╌╌╌╌╌┼╌╌╌╌╌╌╌╌╌╌╌╌╌┤\n",
      "│ 2        ┆ 2022-01-01 00:13:04  ┆ 2022-01-01 00:22:45   ┆ 1               ┆ 2.02          ┆ 1          ┆ 238          ┆ 152          ┆ 2            ┆ 9.0         ┆ 0.5   ┆ 0.5     ┆ 0.0        ┆ 0.0          ┆ 12.8         ┆ 2.5                  ┆ 0.0         │\n",
      "├╌╌╌╌╌╌╌╌╌╌┼╌╌╌╌╌╌╌╌╌╌╌╌╌╌╌╌╌╌╌╌╌╌┼╌╌╌╌╌╌╌╌╌╌╌╌╌╌╌╌╌╌╌╌╌╌╌┼╌╌╌╌╌╌╌╌╌╌╌╌╌╌╌╌╌┼╌╌╌╌╌╌╌╌╌╌╌╌╌╌╌┼╌╌╌╌╌╌╌╌╌╌╌╌┼╌╌╌╌╌╌╌╌╌╌╌╌╌╌┼╌╌╌╌╌╌╌╌╌╌╌╌╌╌┼╌╌╌╌╌╌╌╌╌╌╌╌╌╌┼╌╌╌╌╌╌╌╌╌╌╌╌╌┼╌╌╌╌╌╌╌┼╌╌╌╌╌╌╌╌╌┼╌╌╌╌╌╌╌╌╌╌╌╌┼╌╌╌╌╌╌╌╌╌╌╌╌╌╌┼╌╌╌╌╌╌╌╌╌╌╌╌╌╌┼╌╌╌╌╌╌╌╌╌╌╌╌╌╌╌╌╌╌╌╌╌╌┼╌╌╌╌╌╌╌╌╌╌╌╌╌┤\n",
      "│ 2        ┆ 2022-01-01 00:30:02  ┆ 2022-01-01 00:44:49   ┆ 1               ┆ 2.71          ┆ 1          ┆ 166          ┆ 236          ┆ 1            ┆ 12.0        ┆ 0.5   ┆ 0.5     ┆ 2.25       ┆ 0.0          ┆ 18.05        ┆ 2.5                  ┆ 0.0         │\n",
      "├╌╌╌╌╌╌╌╌╌╌┼╌╌╌╌╌╌╌╌╌╌╌╌╌╌╌╌╌╌╌╌╌╌┼╌╌╌╌╌╌╌╌╌╌╌╌╌╌╌╌╌╌╌╌╌╌╌┼╌╌╌╌╌╌╌╌╌╌╌╌╌╌╌╌╌┼╌╌╌╌╌╌╌╌╌╌╌╌╌╌╌┼╌╌╌╌╌╌╌╌╌╌╌╌┼╌╌╌╌╌╌╌╌╌╌╌╌╌╌┼╌╌╌╌╌╌╌╌╌╌╌╌╌╌┼╌╌╌╌╌╌╌╌╌╌╌╌╌╌┼╌╌╌╌╌╌╌╌╌╌╌╌╌┼╌╌╌╌╌╌╌┼╌╌╌╌╌╌╌╌╌┼╌╌╌╌╌╌╌╌╌╌╌╌┼╌╌╌╌╌╌╌╌╌╌╌╌╌╌┼╌╌╌╌╌╌╌╌╌╌╌╌╌╌┼╌╌╌╌╌╌╌╌╌╌╌╌╌╌╌╌╌╌╌╌╌╌┼╌╌╌╌╌╌╌╌╌╌╌╌╌┤\n",
      "│ 2        ┆ 2022-01-01 00:48:52  ┆ 2022-01-01 00:53:28   ┆ 1               ┆ 0.78          ┆ 1          ┆ 236          ┆ 141          ┆ 2            ┆ 5.0         ┆ 0.5   ┆ 0.5     ┆ 0.0        ┆ 0.0          ┆ 8.8          ┆ 2.5                  ┆ 0.0         │\n",
      "├╌╌╌╌╌╌╌╌╌╌┼╌╌╌╌╌╌╌╌╌╌╌╌╌╌╌╌╌╌╌╌╌╌┼╌╌╌╌╌╌╌╌╌╌╌╌╌╌╌╌╌╌╌╌╌╌╌┼╌╌╌╌╌╌╌╌╌╌╌╌╌╌╌╌╌┼╌╌╌╌╌╌╌╌╌╌╌╌╌╌╌┼╌╌╌╌╌╌╌╌╌╌╌╌┼╌╌╌╌╌╌╌╌╌╌╌╌╌╌┼╌╌╌╌╌╌╌╌╌╌╌╌╌╌┼╌╌╌╌╌╌╌╌╌╌╌╌╌╌┼╌╌╌╌╌╌╌╌╌╌╌╌╌┼╌╌╌╌╌╌╌┼╌╌╌╌╌╌╌╌╌┼╌╌╌╌╌╌╌╌╌╌╌╌┼╌╌╌╌╌╌╌╌╌╌╌╌╌╌┼╌╌╌╌╌╌╌╌╌╌╌╌╌╌┼╌╌╌╌╌╌╌╌╌╌╌╌╌╌╌╌╌╌╌╌╌╌┼╌╌╌╌╌╌╌╌╌╌╌╌╌┤\n",
      "│ …        ┆ …                    ┆ …                     ┆ …               ┆ …             ┆ …          ┆ …            ┆ …            ┆ …            ┆ …           ┆ …     ┆ …       ┆ …          ┆ …            ┆ …            ┆ …                    ┆ …           │\n",
      "├╌╌╌╌╌╌╌╌╌╌┼╌╌╌╌╌╌╌╌╌╌╌╌╌╌╌╌╌╌╌╌╌╌┼╌╌╌╌╌╌╌╌╌╌╌╌╌╌╌╌╌╌╌╌╌╌╌┼╌╌╌╌╌╌╌╌╌╌╌╌╌╌╌╌╌┼╌╌╌╌╌╌╌╌╌╌╌╌╌╌╌┼╌╌╌╌╌╌╌╌╌╌╌╌┼╌╌╌╌╌╌╌╌╌╌╌╌╌╌┼╌╌╌╌╌╌╌╌╌╌╌╌╌╌┼╌╌╌╌╌╌╌╌╌╌╌╌╌╌┼╌╌╌╌╌╌╌╌╌╌╌╌╌┼╌╌╌╌╌╌╌┼╌╌╌╌╌╌╌╌╌┼╌╌╌╌╌╌╌╌╌╌╌╌┼╌╌╌╌╌╌╌╌╌╌╌╌╌╌┼╌╌╌╌╌╌╌╌╌╌╌╌╌╌┼╌╌╌╌╌╌╌╌╌╌╌╌╌╌╌╌╌╌╌╌╌╌┼╌╌╌╌╌╌╌╌╌╌╌╌╌┤\n",
      "│ 2        ┆ 2022-12-31 23:22:15  ┆ 2022-12-31 23:45:11   ┆ 1               ┆ 7.49          ┆ 1          ┆ 141          ┆ 243          ┆ 1            ┆ 33.8        ┆ 1.0   ┆ 0.5     ┆ 10.0       ┆ 0.0          ┆ 48.8         ┆ 2.5                  ┆ 0.0         │\n",
      "├╌╌╌╌╌╌╌╌╌╌┼╌╌╌╌╌╌╌╌╌╌╌╌╌╌╌╌╌╌╌╌╌╌┼╌╌╌╌╌╌╌╌╌╌╌╌╌╌╌╌╌╌╌╌╌╌╌┼╌╌╌╌╌╌╌╌╌╌╌╌╌╌╌╌╌┼╌╌╌╌╌╌╌╌╌╌╌╌╌╌╌┼╌╌╌╌╌╌╌╌╌╌╌╌┼╌╌╌╌╌╌╌╌╌╌╌╌╌╌┼╌╌╌╌╌╌╌╌╌╌╌╌╌╌┼╌╌╌╌╌╌╌╌╌╌╌╌╌╌┼╌╌╌╌╌╌╌╌╌╌╌╌╌┼╌╌╌╌╌╌╌┼╌╌╌╌╌╌╌╌╌┼╌╌╌╌╌╌╌╌╌╌╌╌┼╌╌╌╌╌╌╌╌╌╌╌╌╌╌┼╌╌╌╌╌╌╌╌╌╌╌╌╌╌┼╌╌╌╌╌╌╌╌╌╌╌╌╌╌╌╌╌╌╌╌╌╌┼╌╌╌╌╌╌╌╌╌╌╌╌╌┤\n",
      "│ 1        ┆ 2022-12-31 23:18:43  ┆ 2022-12-31 23:26:41   ┆ 2               ┆ 1.4           ┆ 1          ┆ 234          ┆ 79           ┆ 1            ┆ 9.3         ┆ 3.5   ┆ 0.5     ┆ 2.0        ┆ 0.0          ┆ 16.3         ┆ 2.5                  ┆ 0.0         │\n",
      "├╌╌╌╌╌╌╌╌╌╌┼╌╌╌╌╌╌╌╌╌╌╌╌╌╌╌╌╌╌╌╌╌╌┼╌╌╌╌╌╌╌╌╌╌╌╌╌╌╌╌╌╌╌╌╌╌╌┼╌╌╌╌╌╌╌╌╌╌╌╌╌╌╌╌╌┼╌╌╌╌╌╌╌╌╌╌╌╌╌╌╌┼╌╌╌╌╌╌╌╌╌╌╌╌┼╌╌╌╌╌╌╌╌╌╌╌╌╌╌┼╌╌╌╌╌╌╌╌╌╌╌╌╌╌┼╌╌╌╌╌╌╌╌╌╌╌╌╌╌┼╌╌╌╌╌╌╌╌╌╌╌╌╌┼╌╌╌╌╌╌╌┼╌╌╌╌╌╌╌╌╌┼╌╌╌╌╌╌╌╌╌╌╌╌┼╌╌╌╌╌╌╌╌╌╌╌╌╌╌┼╌╌╌╌╌╌╌╌╌╌╌╌╌╌┼╌╌╌╌╌╌╌╌╌╌╌╌╌╌╌╌╌╌╌╌╌╌┼╌╌╌╌╌╌╌╌╌╌╌╌╌┤\n",
      "│ 1        ┆ 2022-12-31 23:27:38  ┆ 2022-12-31 23:30:00   ┆ 1               ┆ 0.4           ┆ 1          ┆ 79           ┆ 79           ┆ 1            ┆ 4.4         ┆ 3.5   ┆ 0.5     ┆ 1.85       ┆ 0.0          ┆ 11.25        ┆ 2.5                  ┆ 0.0         │\n",
      "├╌╌╌╌╌╌╌╌╌╌┼╌╌╌╌╌╌╌╌╌╌╌╌╌╌╌╌╌╌╌╌╌╌┼╌╌╌╌╌╌╌╌╌╌╌╌╌╌╌╌╌╌╌╌╌╌╌┼╌╌╌╌╌╌╌╌╌╌╌╌╌╌╌╌╌┼╌╌╌╌╌╌╌╌╌╌╌╌╌╌╌┼╌╌╌╌╌╌╌╌╌╌╌╌┼╌╌╌╌╌╌╌╌╌╌╌╌╌╌┼╌╌╌╌╌╌╌╌╌╌╌╌╌╌┼╌╌╌╌╌╌╌╌╌╌╌╌╌╌┼╌╌╌╌╌╌╌╌╌╌╌╌╌┼╌╌╌╌╌╌╌┼╌╌╌╌╌╌╌╌╌┼╌╌╌╌╌╌╌╌╌╌╌╌┼╌╌╌╌╌╌╌╌╌╌╌╌╌╌┼╌╌╌╌╌╌╌╌╌╌╌╌╌╌┼╌╌╌╌╌╌╌╌╌╌╌╌╌╌╌╌╌╌╌╌╌╌┼╌╌╌╌╌╌╌╌╌╌╌╌╌┤\n",
      "│ 2        ┆ 2022-12-31 23:57:11  ┆ 2023-01-01 00:04:12   ┆ 1               ┆ 1.33          ┆ 1          ┆ 79           ┆ 68           ┆ 2            ┆ 9.3         ┆ 1.0   ┆ 0.5     ┆ 0.0        ┆ 0.0          ┆ 14.3         ┆ 2.5                  ┆ 0.0         │\n",
      "├╌╌╌╌╌╌╌╌╌╌┼╌╌╌╌╌╌╌╌╌╌╌╌╌╌╌╌╌╌╌╌╌╌┼╌╌╌╌╌╌╌╌╌╌╌╌╌╌╌╌╌╌╌╌╌╌╌┼╌╌╌╌╌╌╌╌╌╌╌╌╌╌╌╌╌┼╌╌╌╌╌╌╌╌╌╌╌╌╌╌╌┼╌╌╌╌╌╌╌╌╌╌╌╌┼╌╌╌╌╌╌╌╌╌╌╌╌╌╌┼╌╌╌╌╌╌╌╌╌╌╌╌╌╌┼╌╌╌╌╌╌╌╌╌╌╌╌╌╌┼╌╌╌╌╌╌╌╌╌╌╌╌╌┼╌╌╌╌╌╌╌┼╌╌╌╌╌╌╌╌╌┼╌╌╌╌╌╌╌╌╌╌╌╌┼╌╌╌╌╌╌╌╌╌╌╌╌╌╌┼╌╌╌╌╌╌╌╌╌╌╌╌╌╌┼╌╌╌╌╌╌╌╌╌╌╌╌╌╌╌╌╌╌╌╌╌╌┼╌╌╌╌╌╌╌╌╌╌╌╌╌┤\n",
      "│ 2        ┆ 2022-12-31 23:18:46  ┆ 2022-12-31 23:32:50   ┆ 1               ┆ 2.62          ┆ 1          ┆ 144          ┆ 162          ┆ 2            ┆ 14.9        ┆ 1.0   ┆ 0.5     ┆ 0.0        ┆ 0.0          ┆ 19.9         ┆ 2.5                  ┆ 0.0         │\n",
      "├╌╌╌╌╌╌╌╌╌╌┼╌╌╌╌╌╌╌╌╌╌╌╌╌╌╌╌╌╌╌╌╌╌┼╌╌╌╌╌╌╌╌╌╌╌╌╌╌╌╌╌╌╌╌╌╌╌┼╌╌╌╌╌╌╌╌╌╌╌╌╌╌╌╌╌┼╌╌╌╌╌╌╌╌╌╌╌╌╌╌╌┼╌╌╌╌╌╌╌╌╌╌╌╌┼╌╌╌╌╌╌╌╌╌╌╌╌╌╌┼╌╌╌╌╌╌╌╌╌╌╌╌╌╌┼╌╌╌╌╌╌╌╌╌╌╌╌╌╌┼╌╌╌╌╌╌╌╌╌╌╌╌╌┼╌╌╌╌╌╌╌┼╌╌╌╌╌╌╌╌╌┼╌╌╌╌╌╌╌╌╌╌╌╌┼╌╌╌╌╌╌╌╌╌╌╌╌╌╌┼╌╌╌╌╌╌╌╌╌╌╌╌╌╌┼╌╌╌╌╌╌╌╌╌╌╌╌╌╌╌╌╌╌╌╌╌╌┼╌╌╌╌╌╌╌╌╌╌╌╌╌┤\n",
      "│ 2        ┆ 2022-12-31 23:36:15  ┆ 2022-12-31 23:52:36   ┆ 1               ┆ 4.02          ┆ 1          ┆ 233          ┆ 7            ┆ 1            ┆ 19.8        ┆ 1.0   ┆ 0.5     ┆ 4.96       ┆ 0.0          ┆ 29.76        ┆ 2.5                  ┆ 0.0         │\n",
      "├╌╌╌╌╌╌╌╌╌╌┼╌╌╌╌╌╌╌╌╌╌╌╌╌╌╌╌╌╌╌╌╌╌┼╌╌╌╌╌╌╌╌╌╌╌╌╌╌╌╌╌╌╌╌╌╌╌┼╌╌╌╌╌╌╌╌╌╌╌╌╌╌╌╌╌┼╌╌╌╌╌╌╌╌╌╌╌╌╌╌╌┼╌╌╌╌╌╌╌╌╌╌╌╌┼╌╌╌╌╌╌╌╌╌╌╌╌╌╌┼╌╌╌╌╌╌╌╌╌╌╌╌╌╌┼╌╌╌╌╌╌╌╌╌╌╌╌╌╌┼╌╌╌╌╌╌╌╌╌╌╌╌╌┼╌╌╌╌╌╌╌┼╌╌╌╌╌╌╌╌╌┼╌╌╌╌╌╌╌╌╌╌╌╌┼╌╌╌╌╌╌╌╌╌╌╌╌╌╌┼╌╌╌╌╌╌╌╌╌╌╌╌╌╌┼╌╌╌╌╌╌╌╌╌╌╌╌╌╌╌╌╌╌╌╌╌╌┼╌╌╌╌╌╌╌╌╌╌╌╌╌┤\n",
      "│ 2        ┆ 2022-12-31 23:09:34  ┆ 2022-12-31 23:17:46   ┆ 1               ┆ 1.12          ┆ 1          ┆ 161          ┆ 142          ┆ 1            ┆ 8.6         ┆ 1.0   ┆ 0.5     ┆ 0.0        ┆ 0.0          ┆ 13.6         ┆ 2.5                  ┆ 0.0         │\n",
      "├╌╌╌╌╌╌╌╌╌╌┼╌╌╌╌╌╌╌╌╌╌╌╌╌╌╌╌╌╌╌╌╌╌┼╌╌╌╌╌╌╌╌╌╌╌╌╌╌╌╌╌╌╌╌╌╌╌┼╌╌╌╌╌╌╌╌╌╌╌╌╌╌╌╌╌┼╌╌╌╌╌╌╌╌╌╌╌╌╌╌╌┼╌╌╌╌╌╌╌╌╌╌╌╌┼╌╌╌╌╌╌╌╌╌╌╌╌╌╌┼╌╌╌╌╌╌╌╌╌╌╌╌╌╌┼╌╌╌╌╌╌╌╌╌╌╌╌╌╌┼╌╌╌╌╌╌╌╌╌╌╌╌╌┼╌╌╌╌╌╌╌┼╌╌╌╌╌╌╌╌╌┼╌╌╌╌╌╌╌╌╌╌╌╌┼╌╌╌╌╌╌╌╌╌╌╌╌╌╌┼╌╌╌╌╌╌╌╌╌╌╌╌╌╌┼╌╌╌╌╌╌╌╌╌╌╌╌╌╌╌╌╌╌╌╌╌╌┼╌╌╌╌╌╌╌╌╌╌╌╌╌┤\n",
      "│ 2        ┆ 2022-12-31 23:39:06  ┆ 2022-12-31 23:51:55   ┆ 1               ┆ 1.81          ┆ 1          ┆ 161          ┆ 141          ┆ 1            ┆ 12.8        ┆ 1.0   ┆ 0.5     ┆ 4.45       ┆ 0.0          ┆ 22.25        ┆ 2.5                  ┆ 0.0         │\n",
      "├╌╌╌╌╌╌╌╌╌╌┼╌╌╌╌╌╌╌╌╌╌╌╌╌╌╌╌╌╌╌╌╌╌┼╌╌╌╌╌╌╌╌╌╌╌╌╌╌╌╌╌╌╌╌╌╌╌┼╌╌╌╌╌╌╌╌╌╌╌╌╌╌╌╌╌┼╌╌╌╌╌╌╌╌╌╌╌╌╌╌╌┼╌╌╌╌╌╌╌╌╌╌╌╌┼╌╌╌╌╌╌╌╌╌╌╌╌╌╌┼╌╌╌╌╌╌╌╌╌╌╌╌╌╌┼╌╌╌╌╌╌╌╌╌╌╌╌╌╌┼╌╌╌╌╌╌╌╌╌╌╌╌╌┼╌╌╌╌╌╌╌┼╌╌╌╌╌╌╌╌╌┼╌╌╌╌╌╌╌╌╌╌╌╌┼╌╌╌╌╌╌╌╌╌╌╌╌╌╌┼╌╌╌╌╌╌╌╌╌╌╌╌╌╌┼╌╌╌╌╌╌╌╌╌╌╌╌╌╌╌╌╌╌╌╌╌╌┼╌╌╌╌╌╌╌╌╌╌╌╌╌┤\n",
      "│ 2        ┆ 2022-12-31 23:09:37  ┆ 2022-12-31 23:23:07   ┆ 1               ┆ 2.35          ┆ 1          ┆ 229          ┆ 142          ┆ 2            ┆ 14.9        ┆ 1.0   ┆ 0.5     ┆ 0.0        ┆ 0.0          ┆ 19.9         ┆ 2.5                  ┆ 0.0         │\n",
      "├╌╌╌╌╌╌╌╌╌╌┼╌╌╌╌╌╌╌╌╌╌╌╌╌╌╌╌╌╌╌╌╌╌┼╌╌╌╌╌╌╌╌╌╌╌╌╌╌╌╌╌╌╌╌╌╌╌┼╌╌╌╌╌╌╌╌╌╌╌╌╌╌╌╌╌┼╌╌╌╌╌╌╌╌╌╌╌╌╌╌╌┼╌╌╌╌╌╌╌╌╌╌╌╌┼╌╌╌╌╌╌╌╌╌╌╌╌╌╌┼╌╌╌╌╌╌╌╌╌╌╌╌╌╌┼╌╌╌╌╌╌╌╌╌╌╌╌╌╌┼╌╌╌╌╌╌╌╌╌╌╌╌╌┼╌╌╌╌╌╌╌┼╌╌╌╌╌╌╌╌╌┼╌╌╌╌╌╌╌╌╌╌╌╌┼╌╌╌╌╌╌╌╌╌╌╌╌╌╌┼╌╌╌╌╌╌╌╌╌╌╌╌╌╌┼╌╌╌╌╌╌╌╌╌╌╌╌╌╌╌╌╌╌╌╌╌╌┼╌╌╌╌╌╌╌╌╌╌╌╌╌┤\n",
      "│ 2        ┆ 2022-12-31 23:34:24  ┆ 2022-12-31 23:40:52   ┆ 1               ┆ 1.06          ┆ 1          ┆ 236          ┆ 263          ┆ 1            ┆ 8.6         ┆ 1.0   ┆ 0.5     ┆ 3.0        ┆ 0.0          ┆ 16.6         ┆ 2.5                  ┆ 0.0         │\n",
      "└──────────┴──────────────────────┴───────────────────────┴─────────────────┴───────────────┴────────────┴──────────────┴──────────────┴──────────────┴─────────────┴───────┴─────────┴────────────┴──────────────┴──────────────┴──────────────────────┴─────────────┘\n"
     ]
    }
   ],
   "source": [
    "# make a copy of the dataframe but limit trip distance to 35 miles\n",
    "df_cleaned_35 = df_cleaned.clone()\n",
    "# remove rows where trip distance is greater than 35 miles\n",
    "df_cleaned_35 = df_cleaned_35.filter(pl.col(\"trip_distance\") <= 35)\n",
    "print(df_cleaned_35)"
   ]
  },
  {
   "cell_type": "code",
   "execution_count": 18,
   "id": "bc25f631",
   "metadata": {},
   "outputs": [
    {
     "name": "stdout",
     "output_type": "stream",
     "text": [
      "Percentage of data in df_cleaned_35 compared to df_cleaned: 99.95%\n"
     ]
    }
   ],
   "source": [
    "# what is the percentage of data in df_cleaned_35 compared to df_cleaned?\n",
    "percentage = (len(df_cleaned_35) / len(df_cleaned)) * 100\n",
    "print(f\"Percentage of data in df_cleaned_35 compared to df_cleaned: {percentage:.2f}%\")"
   ]
  },
  {
   "cell_type": "code",
   "execution_count": 19,
   "id": "b17d152a",
   "metadata": {},
   "outputs": [
    {
     "data": {
      "image/png": "[encoded data removed]",
      "text/plain": [
       "<Figure size 1200x600 with 1 Axes>"
      ]
     },
     "metadata": {},
     "output_type": "display_data"
    }
   ],
   "source": [
    "import numpy as np\n",
    "import matplotlib.pyplot as plt\n",
    "\n",
    "# Convert to numpy array (most efficient for large datasets)\n",
    "# 1. Extract data\n",
    "trip_dist = df_cleaned_35.select(\"trip_distance\").to_series().to_numpy()\n",
    "\n",
    "# 2. Create plot\n",
    "plt.figure(figsize=(12, 6))\n",
    "plt.boxplot(trip_dist, patch_artist=True)\n",
    "\n",
    "# 3. Customize grid (AFTER creating the plot)\n",
    "plt.grid(False)  # This is where you disable the grid\n",
    "\n",
    "# 4. Add labels and title\n",
    "plt.title(\"Trip Distance Distribution\")\n",
    "plt.ylabel(\"Miles\")\n",
    "plt.show()"
   ]
  },
  {
   "cell_type": "code",
   "execution_count": 20,
   "id": "b4cd7a34",
   "metadata": {},
   "outputs": [
    {
     "name": "stdout",
     "output_type": "stream",
     "text": [
      "401095.62\n"
     ]
    }
   ],
   "source": [
    "# what is the max fare amount?\n",
    "print(df_cleaned_35[\"total_amount\"].max())"
   ]
  },
  {
   "cell_type": "code",
   "execution_count": 21,
   "id": "dad87975",
   "metadata": {},
   "outputs": [],
   "source": [
    "# remove rows where total amount is greater than 100 or less than 0\n",
    "df_cleaned_35 = df_cleaned_35.filter(\n",
    "    (pl.col(\"total_amount\") <= 100) & \n",
    "    (pl.col(\"total_amount\") >= 0)\n",
    ")"
   ]
  },
  {
   "cell_type": "code",
   "execution_count": 22,
   "id": "9c99b41e",
   "metadata": {},
   "outputs": [
    {
     "name": "stderr",
     "output_type": "stream",
     "text": [
      "C:\\Users\\danie\\AppData\\Local\\Temp\\ipykernel_18612\\1139418761.py:22: MatplotlibDeprecationWarning: The 'labels' parameter of boxplot() has been renamed 'tick_labels' since Matplotlib 3.9; support for the old name will be dropped in 3.11.\n",
      "  box = plt.boxplot(\n"
     ]
    },
    {
     "data": {
      "image/png": "[encoded data removed]",
      "text/plain": [
       "<Figure size 1200x600 with 1 Axes>"
      ]
     },
     "metadata": {},
     "output_type": "display_data"
    }
   ],
   "source": [
    "# create box and whisker plot for the fare amount\n",
    "# 1. Get unique payment types\n",
    "payment_types = (\n",
    "    df_cleaned_35.select(\"payment_type\")\n",
    "    .unique()\n",
    "    .sort(\"payment_type\")\n",
    "    .to_series()\n",
    "    .to_list()\n",
    ")\n",
    "\n",
    "# 2. Prepare data for each group\n",
    "data = [\n",
    "    df_cleaned_35.filter(pl.col(\"payment_type\") == pt)\n",
    "    .select(\"fare_amount\")\n",
    "    .to_series()\n",
    "    .to_numpy()\n",
    "    for pt in payment_types\n",
    "]\n",
    "\n",
    "# 3. Create the boxplot\n",
    "plt.figure(figsize=(12, 6))\n",
    "box = plt.boxplot(\n",
    "    data,\n",
    "    labels=payment_types,\n",
    "    patch_artist=True,  # Enable coloring\n",
    "    showfliers=True,    # Show outliers\n",
    "    widths=0.6         # Box width\n",
    ")\n",
    "\n",
    "# 4. Customize colors and style\n",
    "colors = ['#1f77b4', '#ff7f0e', '#2ca02c']  # Custom color palette\n",
    "for patch, color in zip(box['boxes'], colors):\n",
    "    patch.set_facecolor(color)\n",
    "\n",
    "# 5. Format the plot\n",
    "plt.title(\"Fare Amount by Payment Type\", pad=20)\n",
    "plt.xlabel(\"Payment Type\")\n",
    "plt.ylabel(\"Fare Amount ($)\")\n",
    "plt.grid(False)\n",
    "plt.tight_layout()\n",
    "plt.show()"
   ]
  },
  {
   "cell_type": "code",
   "execution_count": 23,
   "id": "6ab16cfa",
   "metadata": {},
   "outputs": [
    {
     "name": "stdout",
     "output_type": "stream",
     "text": [
      "shape: (9, 20)\n",
      "┌────────────┬─────────────┬────────────────┬───────────────┬───────────────┬───────────────┬─────────────┬──────────────┬──────────────┬──────────────┬─────────────┬─────────────┬─────────────┬─────────────┬──────────────┬──────────────┬───────────────┬─────────────┬───────────────┬───────────────┐\n",
      "│ statistic  ┆ VendorID    ┆ tpep_pickup_da ┆ tpep_dropoff_ ┆ passenger_cou ┆ trip_distance ┆ RatecodeID  ┆ PULocationID ┆ DOLocationID ┆ payment_type ┆ fare_amount ┆ extra       ┆ mta_tax     ┆ tip_amount  ┆ tolls_amount ┆ total_amount ┆ congestion_su ┆ airport_fee ┆ trip_duration ┆ average_speed │\n",
      "│ ---        ┆ ---         ┆ tetime         ┆ datetime      ┆ nt            ┆ ---           ┆ ---         ┆ ---          ┆ ---          ┆ ---          ┆ ---         ┆ ---         ┆ ---         ┆ ---         ┆ ---          ┆ ---          ┆ rcharge       ┆ ---         ┆ ---           ┆ ---           │\n",
      "│ str        ┆ f64         ┆ ---            ┆ ---           ┆ ---           ┆ f64           ┆ f64         ┆ f64          ┆ f64          ┆ f64          ┆ f64         ┆ f64         ┆ f64         ┆ f64         ┆ f64          ┆ f64          ┆ ---           ┆ f64         ┆ f64           ┆ f64           │\n",
      "│            ┆             ┆ str            ┆ str           ┆ f64           ┆               ┆             ┆              ┆              ┆              ┆             ┆             ┆             ┆             ┆              ┆              ┆ f64           ┆             ┆               ┆               │\n",
      "╞════════════╪═════════════╪════════════════╪═══════════════╪═══════════════╪═══════════════╪═════════════╪══════════════╪══════════════╪══════════════╪═════════════╪═════════════╪═════════════╪═════════════╪══════════════╪══════════════╪═══════════════╪═════════════╪═══════════════╪═══════════════╡\n",
      "│ count      ┆ 3.7887978e7 ┆ 37887978       ┆ 37887978      ┆ 3.7887978e7   ┆ 3.7887978e7   ┆ 3.7887978e7 ┆ 3.7887978e7  ┆ 3.7887978e7  ┆ 3.7887978e7  ┆ 3.7887978e7 ┆ 3.7887978e7 ┆ 3.7887978e7 ┆ 3.7887978e7 ┆ 3.7887978e7  ┆ 3.7887978e7  ┆ 3.7887978e7   ┆ 3.7887978e7 ┆ 3.7887978e7   ┆ 3.7870278e7   │\n",
      "├╌╌╌╌╌╌╌╌╌╌╌╌┼╌╌╌╌╌╌╌╌╌╌╌╌╌┼╌╌╌╌╌╌╌╌╌╌╌╌╌╌╌╌┼╌╌╌╌╌╌╌╌╌╌╌╌╌╌╌┼╌╌╌╌╌╌╌╌╌╌╌╌╌╌╌┼╌╌╌╌╌╌╌╌╌╌╌╌╌╌╌┼╌╌╌╌╌╌╌╌╌╌╌╌╌┼╌╌╌╌╌╌╌╌╌╌╌╌╌╌┼╌╌╌╌╌╌╌╌╌╌╌╌╌╌┼╌╌╌╌╌╌╌╌╌╌╌╌╌╌┼╌╌╌╌╌╌╌╌╌╌╌╌╌┼╌╌╌╌╌╌╌╌╌╌╌╌╌┼╌╌╌╌╌╌╌╌╌╌╌╌╌┼╌╌╌╌╌╌╌╌╌╌╌╌╌┼╌╌╌╌╌╌╌╌╌╌╌╌╌╌┼╌╌╌╌╌╌╌╌╌╌╌╌╌╌┼╌╌╌╌╌╌╌╌╌╌╌╌╌╌╌┼╌╌╌╌╌╌╌╌╌╌╌╌╌┼╌╌╌╌╌╌╌╌╌╌╌╌╌╌╌┼╌╌╌╌╌╌╌╌╌╌╌╌╌╌╌┤\n",
      "│ null_count ┆ 0.0         ┆ 0              ┆ 0             ┆ 0.0           ┆ 0.0           ┆ 0.0         ┆ 0.0          ┆ 0.0          ┆ 0.0          ┆ 0.0         ┆ 0.0         ┆ 0.0         ┆ 0.0         ┆ 0.0          ┆ 0.0          ┆ 0.0           ┆ 0.0         ┆ 0.0           ┆ 17700.0       │\n",
      "├╌╌╌╌╌╌╌╌╌╌╌╌┼╌╌╌╌╌╌╌╌╌╌╌╌╌┼╌╌╌╌╌╌╌╌╌╌╌╌╌╌╌╌┼╌╌╌╌╌╌╌╌╌╌╌╌╌╌╌┼╌╌╌╌╌╌╌╌╌╌╌╌╌╌╌┼╌╌╌╌╌╌╌╌╌╌╌╌╌╌╌┼╌╌╌╌╌╌╌╌╌╌╌╌╌┼╌╌╌╌╌╌╌╌╌╌╌╌╌╌┼╌╌╌╌╌╌╌╌╌╌╌╌╌╌┼╌╌╌╌╌╌╌╌╌╌╌╌╌╌┼╌╌╌╌╌╌╌╌╌╌╌╌╌┼╌╌╌╌╌╌╌╌╌╌╌╌╌┼╌╌╌╌╌╌╌╌╌╌╌╌╌┼╌╌╌╌╌╌╌╌╌╌╌╌╌┼╌╌╌╌╌╌╌╌╌╌╌╌╌╌┼╌╌╌╌╌╌╌╌╌╌╌╌╌╌┼╌╌╌╌╌╌╌╌╌╌╌╌╌╌╌┼╌╌╌╌╌╌╌╌╌╌╌╌╌┼╌╌╌╌╌╌╌╌╌╌╌╌╌╌╌┼╌╌╌╌╌╌╌╌╌╌╌╌╌╌╌┤\n",
      "│ mean       ┆ 1.710943    ┆ 2022-07-04 21: ┆ 2022-07-04    ┆ 1.400771      ┆ 3.413559      ┆ 1.416514    ┆ 164.982351   ┆ 162.948752   ┆ 1.21823      ┆ 14.433249   ┆ 1.052719    ┆ 0.496343    ┆ 2.675147    ┆ 0.4991       ┆ 21.211749    ┆ 2.316982      ┆ 0.097805    ┆ 17.136085     ┆ 15.483687     │\n",
      "│            ┆             ┆ 15:59.018556   ┆ 21:33:07.1836 ┆               ┆               ┆             ┆              ┆              ┆              ┆             ┆             ┆             ┆             ┆              ┆              ┆               ┆             ┆               ┆               │\n",
      "│            ┆             ┆                ┆ 58            ┆               ┆               ┆             ┆              ┆              ┆              ┆             ┆             ┆             ┆             ┆              ┆              ┆               ┆             ┆               ┆               │\n",
      "├╌╌╌╌╌╌╌╌╌╌╌╌┼╌╌╌╌╌╌╌╌╌╌╌╌╌┼╌╌╌╌╌╌╌╌╌╌╌╌╌╌╌╌┼╌╌╌╌╌╌╌╌╌╌╌╌╌╌╌┼╌╌╌╌╌╌╌╌╌╌╌╌╌╌╌┼╌╌╌╌╌╌╌╌╌╌╌╌╌╌╌┼╌╌╌╌╌╌╌╌╌╌╌╌╌┼╌╌╌╌╌╌╌╌╌╌╌╌╌╌┼╌╌╌╌╌╌╌╌╌╌╌╌╌╌┼╌╌╌╌╌╌╌╌╌╌╌╌╌╌┼╌╌╌╌╌╌╌╌╌╌╌╌╌┼╌╌╌╌╌╌╌╌╌╌╌╌╌┼╌╌╌╌╌╌╌╌╌╌╌╌╌┼╌╌╌╌╌╌╌╌╌╌╌╌╌┼╌╌╌╌╌╌╌╌╌╌╌╌╌╌┼╌╌╌╌╌╌╌╌╌╌╌╌╌╌┼╌╌╌╌╌╌╌╌╌╌╌╌╌╌╌┼╌╌╌╌╌╌╌╌╌╌╌╌╌┼╌╌╌╌╌╌╌╌╌╌╌╌╌╌╌┼╌╌╌╌╌╌╌╌╌╌╌╌╌╌╌┤\n",
      "│ std        ┆ 0.453325    ┆ null           ┆ null          ┆ 0.963688      ┆ 4.259123      ┆ 5.81901     ┆ 64.920976    ┆ 69.880517    ┆ 0.440236     ┆ 12.308737   ┆ 1.268152    ┆ 0.045132    ┆ 2.932753    ┆ 1.821087     ┆ 15.592065    ┆ 0.651188      ┆ 0.335694    ┆ 50.391112     ┆ 363.966653    │\n",
      "├╌╌╌╌╌╌╌╌╌╌╌╌┼╌╌╌╌╌╌╌╌╌╌╌╌╌┼╌╌╌╌╌╌╌╌╌╌╌╌╌╌╌╌┼╌╌╌╌╌╌╌╌╌╌╌╌╌╌╌┼╌╌╌╌╌╌╌╌╌╌╌╌╌╌╌┼╌╌╌╌╌╌╌╌╌╌╌╌╌╌╌┼╌╌╌╌╌╌╌╌╌╌╌╌╌┼╌╌╌╌╌╌╌╌╌╌╌╌╌╌┼╌╌╌╌╌╌╌╌╌╌╌╌╌╌┼╌╌╌╌╌╌╌╌╌╌╌╌╌╌┼╌╌╌╌╌╌╌╌╌╌╌╌╌┼╌╌╌╌╌╌╌╌╌╌╌╌╌┼╌╌╌╌╌╌╌╌╌╌╌╌╌┼╌╌╌╌╌╌╌╌╌╌╌╌╌┼╌╌╌╌╌╌╌╌╌╌╌╌╌╌┼╌╌╌╌╌╌╌╌╌╌╌╌╌╌┼╌╌╌╌╌╌╌╌╌╌╌╌╌╌╌┼╌╌╌╌╌╌╌╌╌╌╌╌╌┼╌╌╌╌╌╌╌╌╌╌╌╌╌╌╌┼╌╌╌╌╌╌╌╌╌╌╌╌╌╌╌┤\n",
      "│ min        ┆ 1.0         ┆ 2022-01-01     ┆ 2022-01-01    ┆ 0.0           ┆ 0.0           ┆ 1.0         ┆ 1.0          ┆ 1.0          ┆ 1.0          ┆ -8.0        ┆ -22.18      ┆ -0.5        ┆ 0.0         ┆ 0.0          ┆ 0.0          ┆ -2.5          ┆ 0.0         ┆ -71759.933333 ┆ 0.0           │\n",
      "│            ┆             ┆ 00:00:08       ┆ 00:01:42      ┆               ┆               ┆             ┆              ┆              ┆              ┆             ┆             ┆             ┆             ┆              ┆              ┆               ┆             ┆               ┆               │\n",
      "├╌╌╌╌╌╌╌╌╌╌╌╌┼╌╌╌╌╌╌╌╌╌╌╌╌╌┼╌╌╌╌╌╌╌╌╌╌╌╌╌╌╌╌┼╌╌╌╌╌╌╌╌╌╌╌╌╌╌╌┼╌╌╌╌╌╌╌╌╌╌╌╌╌╌╌┼╌╌╌╌╌╌╌╌╌╌╌╌╌╌╌┼╌╌╌╌╌╌╌╌╌╌╌╌╌┼╌╌╌╌╌╌╌╌╌╌╌╌╌╌┼╌╌╌╌╌╌╌╌╌╌╌╌╌╌┼╌╌╌╌╌╌╌╌╌╌╌╌╌╌┼╌╌╌╌╌╌╌╌╌╌╌╌╌┼╌╌╌╌╌╌╌╌╌╌╌╌╌┼╌╌╌╌╌╌╌╌╌╌╌╌╌┼╌╌╌╌╌╌╌╌╌╌╌╌╌┼╌╌╌╌╌╌╌╌╌╌╌╌╌╌┼╌╌╌╌╌╌╌╌╌╌╌╌╌╌┼╌╌╌╌╌╌╌╌╌╌╌╌╌╌╌┼╌╌╌╌╌╌╌╌╌╌╌╌╌┼╌╌╌╌╌╌╌╌╌╌╌╌╌╌╌┼╌╌╌╌╌╌╌╌╌╌╌╌╌╌╌┤\n",
      "│ 25%        ┆ 1.0         ┆ 2022-04-07     ┆ 2022-04-07    ┆ 1.0           ┆ 1.1           ┆ 1.0         ┆ 132.0        ┆ 113.0        ┆ 1.0          ┆ 7.0         ┆ 0.0         ┆ 0.5         ┆ 0.98        ┆ 0.0          ┆ 12.3         ┆ 2.5           ┆ 0.0         ┆ 7.383333      ┆ 7.677725      │\n",
      "│            ┆             ┆ 16:05:13       ┆ 16:26:31      ┆               ┆               ┆             ┆              ┆              ┆              ┆             ┆             ┆             ┆             ┆              ┆              ┆               ┆             ┆               ┆               │\n",
      "├╌╌╌╌╌╌╌╌╌╌╌╌┼╌╌╌╌╌╌╌╌╌╌╌╌╌┼╌╌╌╌╌╌╌╌╌╌╌╌╌╌╌╌┼╌╌╌╌╌╌╌╌╌╌╌╌╌╌╌┼╌╌╌╌╌╌╌╌╌╌╌╌╌╌╌┼╌╌╌╌╌╌╌╌╌╌╌╌╌╌╌┼╌╌╌╌╌╌╌╌╌╌╌╌╌┼╌╌╌╌╌╌╌╌╌╌╌╌╌╌┼╌╌╌╌╌╌╌╌╌╌╌╌╌╌┼╌╌╌╌╌╌╌╌╌╌╌╌╌╌┼╌╌╌╌╌╌╌╌╌╌╌╌╌┼╌╌╌╌╌╌╌╌╌╌╌╌╌┼╌╌╌╌╌╌╌╌╌╌╌╌╌┼╌╌╌╌╌╌╌╌╌╌╌╌╌┼╌╌╌╌╌╌╌╌╌╌╌╌╌╌┼╌╌╌╌╌╌╌╌╌╌╌╌╌╌┼╌╌╌╌╌╌╌╌╌╌╌╌╌╌╌┼╌╌╌╌╌╌╌╌╌╌╌╌╌┼╌╌╌╌╌╌╌╌╌╌╌╌╌╌╌┼╌╌╌╌╌╌╌╌╌╌╌╌╌╌╌┤\n",
      "│ 50%        ┆ 2.0         ┆ 2022-06-30     ┆ 2022-06-30    ┆ 1.0           ┆ 1.86          ┆ 1.0         ┆ 162.0        ┆ 162.0        ┆ 1.0          ┆ 10.0        ┆ 0.5         ┆ 0.5         ┆ 2.16        ┆ 0.0          ┆ 15.95        ┆ 2.5           ┆ 0.0         ┆ 12.133333     ┆ 10.210526     │\n",
      "│            ┆             ┆ 18:40:13       ┆ 18:56:46      ┆               ┆               ┆             ┆              ┆              ┆              ┆             ┆             ┆             ┆             ┆              ┆              ┆               ┆             ┆               ┆               │\n",
      "├╌╌╌╌╌╌╌╌╌╌╌╌┼╌╌╌╌╌╌╌╌╌╌╌╌╌┼╌╌╌╌╌╌╌╌╌╌╌╌╌╌╌╌┼╌╌╌╌╌╌╌╌╌╌╌╌╌╌╌┼╌╌╌╌╌╌╌╌╌╌╌╌╌╌╌┼╌╌╌╌╌╌╌╌╌╌╌╌╌╌╌┼╌╌╌╌╌╌╌╌╌╌╌╌╌┼╌╌╌╌╌╌╌╌╌╌╌╌╌╌┼╌╌╌╌╌╌╌╌╌╌╌╌╌╌┼╌╌╌╌╌╌╌╌╌╌╌╌╌╌┼╌╌╌╌╌╌╌╌╌╌╌╌╌┼╌╌╌╌╌╌╌╌╌╌╌╌╌┼╌╌╌╌╌╌╌╌╌╌╌╌╌┼╌╌╌╌╌╌╌╌╌╌╌╌╌┼╌╌╌╌╌╌╌╌╌╌╌╌╌╌┼╌╌╌╌╌╌╌╌╌╌╌╌╌╌┼╌╌╌╌╌╌╌╌╌╌╌╌╌╌╌┼╌╌╌╌╌╌╌╌╌╌╌╌╌┼╌╌╌╌╌╌╌╌╌╌╌╌╌╌╌┼╌╌╌╌╌╌╌╌╌╌╌╌╌╌╌┤\n",
      "│ 75%        ┆ 2.0         ┆ 2022-10-04     ┆ 2022-10-04    ┆ 1.0           ┆ 3.46          ┆ 1.0         ┆ 234.0        ┆ 234.0        ┆ 1.0          ┆ 16.0        ┆ 2.5         ┆ 0.5         ┆ 3.35        ┆ 0.0          ┆ 22.56        ┆ 2.5           ┆ 0.0         ┆ 19.6          ┆ 14.0          │\n",
      "│            ┆             ┆ 13:30:40       ┆ 13:49:09      ┆               ┆               ┆             ┆              ┆              ┆              ┆             ┆             ┆             ┆             ┆              ┆              ┆               ┆             ┆               ┆               │\n",
      "├╌╌╌╌╌╌╌╌╌╌╌╌┼╌╌╌╌╌╌╌╌╌╌╌╌╌┼╌╌╌╌╌╌╌╌╌╌╌╌╌╌╌╌┼╌╌╌╌╌╌╌╌╌╌╌╌╌╌╌┼╌╌╌╌╌╌╌╌╌╌╌╌╌╌╌┼╌╌╌╌╌╌╌╌╌╌╌╌╌╌╌┼╌╌╌╌╌╌╌╌╌╌╌╌╌┼╌╌╌╌╌╌╌╌╌╌╌╌╌╌┼╌╌╌╌╌╌╌╌╌╌╌╌╌╌┼╌╌╌╌╌╌╌╌╌╌╌╌╌╌┼╌╌╌╌╌╌╌╌╌╌╌╌╌┼╌╌╌╌╌╌╌╌╌╌╌╌╌┼╌╌╌╌╌╌╌╌╌╌╌╌╌┼╌╌╌╌╌╌╌╌╌╌╌╌╌┼╌╌╌╌╌╌╌╌╌╌╌╌╌╌┼╌╌╌╌╌╌╌╌╌╌╌╌╌╌┼╌╌╌╌╌╌╌╌╌╌╌╌╌╌╌┼╌╌╌╌╌╌╌╌╌╌╌╌╌┼╌╌╌╌╌╌╌╌╌╌╌╌╌╌╌┼╌╌╌╌╌╌╌╌╌╌╌╌╌╌╌┤\n",
      "│ max        ┆ 2.0         ┆ 2022-12-31     ┆ 2023-01-01    ┆ 9.0           ┆ 35.0          ┆ 99.0        ┆ 265.0        ┆ 265.0        ┆ 5.0          ┆ 100.0       ┆ 33.5        ┆ 25.48       ┆ 99.0        ┆ 99.0         ┆ 100.0        ┆ 2.75          ┆ 1.25        ┆ 9747.05       ┆ 123408.0      │\n",
      "│            ┆             ┆ 23:59:59       ┆ 23:33:40      ┆               ┆               ┆             ┆              ┆              ┆              ┆             ┆             ┆             ┆             ┆              ┆              ┆               ┆             ┆               ┆               │\n",
      "└────────────┴─────────────┴────────────────┴───────────────┴───────────────┴───────────────┴─────────────┴──────────────┴──────────────┴──────────────┴─────────────┴─────────────┴─────────────┴─────────────┴──────────────┴──────────────┴───────────────┴─────────────┴───────────────┴───────────────┘\n"
     ]
    }
   ],
   "source": [
    "# 2. Calculate trip duration in minutes\n",
    "df_cleaned_35 = df_cleaned_35.with_columns(\n",
    "    (\n",
    "        (pl.col(\"tpep_dropoff_datetime\") - pl.col(\"tpep_pickup_datetime\")).dt.total_seconds() / 60.0\n",
    "    ).alias(\"trip_duration\")\n",
    ")\n",
    "\n",
    "# 3. Calculate average speed in mph (with zero-division protection)\n",
    "df_cleaned_35 = df_cleaned_35.with_columns(\n",
    "    pl.when(pl.col(\"trip_duration\") > 0)\n",
    "     .then(pl.col(\"trip_distance\") / (pl.col(\"trip_duration\") / 60))\n",
    "     .otherwise(None)\n",
    "     .alias(\"average_speed\")\n",
    ")\n",
    "print(df_cleaned_35.describe())"
   ]
  },
  {
   "cell_type": "code",
   "execution_count": 24,
   "id": "d6593329",
   "metadata": {},
   "outputs": [
    {
     "name": "stdout",
     "output_type": "stream",
     "text": [
      "shape: (5, 4)\n",
      "┌────────────┬───────────────┬─────────────────────────┬──────────────┐\n",
      "│ LocationID ┆ Borough       ┆ Zone                    ┆ service_zone │\n",
      "│ ---        ┆ ---           ┆ ---                     ┆ ---          │\n",
      "│ i64        ┆ str           ┆ str                     ┆ str          │\n",
      "╞════════════╪═══════════════╪═════════════════════════╪══════════════╡\n",
      "│ 1          ┆ EWR           ┆ Newark Airport          ┆ EWR          │\n",
      "├╌╌╌╌╌╌╌╌╌╌╌╌┼╌╌╌╌╌╌╌╌╌╌╌╌╌╌╌┼╌╌╌╌╌╌╌╌╌╌╌╌╌╌╌╌╌╌╌╌╌╌╌╌╌┼╌╌╌╌╌╌╌╌╌╌╌╌╌╌┤\n",
      "│ 2          ┆ Queens        ┆ Jamaica Bay             ┆ Boro Zone    │\n",
      "├╌╌╌╌╌╌╌╌╌╌╌╌┼╌╌╌╌╌╌╌╌╌╌╌╌╌╌╌┼╌╌╌╌╌╌╌╌╌╌╌╌╌╌╌╌╌╌╌╌╌╌╌╌╌┼╌╌╌╌╌╌╌╌╌╌╌╌╌╌┤\n",
      "│ 3          ┆ Bronx         ┆ Allerton/Pelham Gardens ┆ Boro Zone    │\n",
      "├╌╌╌╌╌╌╌╌╌╌╌╌┼╌╌╌╌╌╌╌╌╌╌╌╌╌╌╌┼╌╌╌╌╌╌╌╌╌╌╌╌╌╌╌╌╌╌╌╌╌╌╌╌╌┼╌╌╌╌╌╌╌╌╌╌╌╌╌╌┤\n",
      "│ 4          ┆ Manhattan     ┆ Alphabet City           ┆ Yellow Zone  │\n",
      "├╌╌╌╌╌╌╌╌╌╌╌╌┼╌╌╌╌╌╌╌╌╌╌╌╌╌╌╌┼╌╌╌╌╌╌╌╌╌╌╌╌╌╌╌╌╌╌╌╌╌╌╌╌╌┼╌╌╌╌╌╌╌╌╌╌╌╌╌╌┤\n",
      "│ 5          ┆ Staten Island ┆ Arden Heights           ┆ Boro Zone    │\n",
      "└────────────┴───────────────┴─────────────────────────┴──────────────┘\n"
     ]
    }
   ],
   "source": [
    "import pandas as pd\n",
    "# import taxi_zone_lookup.csv file\n",
    "zone_lookup = pl.read_csv(r\"C:\\Users\\danie\\OneDrive\\Desktop\\DTSC_Taxi_Project\\taxi_zone_lookup.csv\")\n",
    "# check the first 5 rows of the dataframe\n",
    "print(zone_lookup.head())"
   ]
  },
  {
   "cell_type": "code",
   "execution_count": 25,
   "id": "345d64d4",
   "metadata": {},
   "outputs": [],
   "source": [
    "# Merging\n",
    "# Rename Zone column so it's clear after merge\n",
    "zone_lookup_pickup = zone_lookup.rename({\n",
    "    \"LocationID\": \"PULocationID\",\n",
    "    \"Zone\": \"pickup_zone\"\n",
    "})\n",
    "\n",
    "zone_lookup_dropoff = zone_lookup.rename({\n",
    "    \"LocationID\": \"DOLocationID\",\n",
    "    \"Zone\": \"dropoff_zone\"\n",
    "})\n",
    "\n",
    "df_cleaned_35 = df_cleaned_35.join(\n",
    "    zone_lookup_pickup[[\"PULocationID\", \"pickup_zone\"]],\n",
    "    on=\"PULocationID\",\n",
    "    how=\"left\"\n",
    ")\n",
    "\n",
    "df_cleaned_35 = df_cleaned_35.join(\n",
    "    zone_lookup_dropoff[[\"DOLocationID\", \"dropoff_zone\"]],\n",
    "    on=\"DOLocationID\",\n",
    "    how=\"left\"\n",
    ")"
   ]
  },
  {
   "cell_type": "code",
   "execution_count": 26,
   "id": "35a3fe38",
   "metadata": {},
   "outputs": [
    {
     "data": {
      "text/html": [
       "<div><style>\n",
       ".dataframe > thead > tr,\n",
       ".dataframe > tbody > tr {\n",
       "  text-align: right;\n",
       "  white-space: pre-wrap;\n",
       "}\n",
       "</style>\n",
       "<small>shape: (10, 21)</small><table border=\"1\" class=\"dataframe\"><thead><tr><th>VendorID</th><th>tpep_pickup_datetime</th><th>tpep_dropoff_datetime</th><th>passenger_count</th><th>trip_distance</th><th>RatecodeID</th><th>PULocationID</th><th>DOLocationID</th><th>payment_type</th><th>fare_amount</th><th>extra</th><th>mta_tax</th><th>tip_amount</th><th>tolls_amount</th><th>total_amount</th><th>congestion_surcharge</th><th>airport_fee</th><th>trip_duration</th><th>average_speed</th><th>pickup_zone</th><th>dropoff_zone</th></tr><tr><td>i64</td><td>datetime[μs]</td><td>datetime[μs]</td><td>i64</td><td>f64</td><td>i64</td><td>i64</td><td>i64</td><td>i64</td><td>f64</td><td>f64</td><td>f64</td><td>f64</td><td>f64</td><td>f64</td><td>f64</td><td>f64</td><td>f64</td><td>f64</td><td>str</td><td>str</td></tr></thead><tbody><tr><td>1</td><td>2022-01-01 00:35:40</td><td>2022-01-01 00:53:29</td><td>2</td><td>3.8</td><td>1</td><td>142</td><td>236</td><td>1</td><td>14.5</td><td>3.0</td><td>0.5</td><td>3.65</td><td>0.0</td><td>21.95</td><td>2.5</td><td>0.0</td><td>17.816667</td><td>12.797007</td><td>&quot;Lincoln Square East&quot;</td><td>&quot;Upper East Side North&quot;</td></tr><tr><td>1</td><td>2022-01-01 00:33:43</td><td>2022-01-01 00:42:07</td><td>1</td><td>2.1</td><td>1</td><td>236</td><td>42</td><td>1</td><td>8.0</td><td>0.5</td><td>0.5</td><td>4.0</td><td>0.0</td><td>13.3</td><td>0.0</td><td>0.0</td><td>8.4</td><td>15.0</td><td>&quot;Upper East Side North&quot;</td><td>&quot;Central Harlem North&quot;</td></tr><tr><td>2</td><td>2022-01-01 00:53:21</td><td>2022-01-01 01:02:19</td><td>1</td><td>0.97</td><td>1</td><td>166</td><td>166</td><td>1</td><td>7.5</td><td>0.5</td><td>0.5</td><td>1.76</td><td>0.0</td><td>10.56</td><td>0.0</td><td>0.0</td><td>8.966667</td><td>6.490706</td><td>&quot;Morningside Heights&quot;</td><td>&quot;Morningside Heights&quot;</td></tr><tr><td>2</td><td>2022-01-01 00:25:21</td><td>2022-01-01 00:35:23</td><td>1</td><td>1.09</td><td>1</td><td>114</td><td>68</td><td>2</td><td>8.0</td><td>0.5</td><td>0.5</td><td>0.0</td><td>0.0</td><td>11.8</td><td>2.5</td><td>0.0</td><td>10.033333</td><td>6.518272</td><td>&quot;Greenwich Village South&quot;</td><td>&quot;East Chelsea&quot;</td></tr><tr><td>2</td><td>2022-01-01 00:36:48</td><td>2022-01-01 01:14:20</td><td>1</td><td>4.3</td><td>1</td><td>68</td><td>163</td><td>1</td><td>23.5</td><td>0.5</td><td>0.5</td><td>3.0</td><td>0.0</td><td>30.3</td><td>2.5</td><td>0.0</td><td>37.533333</td><td>6.87389</td><td>&quot;East Chelsea&quot;</td><td>&quot;Midtown North&quot;</td></tr><tr><td>1</td><td>2022-01-01 00:40:15</td><td>2022-01-01 01:09:48</td><td>1</td><td>10.3</td><td>1</td><td>138</td><td>161</td><td>1</td><td>33.0</td><td>3.0</td><td>0.5</td><td>13.0</td><td>6.55</td><td>56.35</td><td>2.5</td><td>0.0</td><td>29.55</td><td>20.913706</td><td>&quot;LaGuardia Airport&quot;</td><td>&quot;Midtown Center&quot;</td></tr><tr><td>2</td><td>2022-01-01 00:20:50</td><td>2022-01-01 00:34:58</td><td>1</td><td>5.07</td><td>1</td><td>233</td><td>87</td><td>1</td><td>17.0</td><td>0.5</td><td>0.5</td><td>5.2</td><td>0.0</td><td>26.0</td><td>2.5</td><td>0.0</td><td>14.133333</td><td>21.523585</td><td>&quot;UN/Turtle Bay South&quot;</td><td>&quot;Financial District North&quot;</td></tr><tr><td>2</td><td>2022-01-01 00:13:04</td><td>2022-01-01 00:22:45</td><td>1</td><td>2.02</td><td>1</td><td>238</td><td>152</td><td>2</td><td>9.0</td><td>0.5</td><td>0.5</td><td>0.0</td><td>0.0</td><td>12.8</td><td>2.5</td><td>0.0</td><td>9.683333</td><td>12.516351</td><td>&quot;Upper West Side North&quot;</td><td>&quot;Manhattanville&quot;</td></tr><tr><td>2</td><td>2022-01-01 00:30:02</td><td>2022-01-01 00:44:49</td><td>1</td><td>2.71</td><td>1</td><td>166</td><td>236</td><td>1</td><td>12.0</td><td>0.5</td><td>0.5</td><td>2.25</td><td>0.0</td><td>18.05</td><td>2.5</td><td>0.0</td><td>14.783333</td><td>10.998873</td><td>&quot;Morningside Heights&quot;</td><td>&quot;Upper East Side North&quot;</td></tr><tr><td>2</td><td>2022-01-01 00:48:52</td><td>2022-01-01 00:53:28</td><td>1</td><td>0.78</td><td>1</td><td>236</td><td>141</td><td>2</td><td>5.0</td><td>0.5</td><td>0.5</td><td>0.0</td><td>0.0</td><td>8.8</td><td>2.5</td><td>0.0</td><td>4.6</td><td>10.173913</td><td>&quot;Upper East Side North&quot;</td><td>&quot;Lenox Hill West&quot;</td></tr></tbody></table></div>"
      ],
      "text/plain": [
       "shape: (10, 21)\n",
       "┌──────────┬───────────────┬───────────────┬───────────────┬───────────────┬────────────┬──────────────┬──────────────┬──────────────┬─────────────┬───────┬─────────┬────────────┬──────────────┬──────────────┬───────────────┬─────────────┬───────────────┬──────────────┬──────────────┬──────────────┐\n",
       "│ VendorID ┆ tpep_pickup_d ┆ tpep_dropoff_ ┆ passenger_cou ┆ trip_distance ┆ RatecodeID ┆ PULocationID ┆ DOLocationID ┆ payment_type ┆ fare_amount ┆ extra ┆ mta_tax ┆ tip_amount ┆ tolls_amount ┆ total_amount ┆ congestion_su ┆ airport_fee ┆ trip_duration ┆ average_spee ┆ pickup_zone  ┆ dropoff_zone │\n",
       "│ ---      ┆ atetime       ┆ datetime      ┆ nt            ┆ ---           ┆ ---        ┆ ---          ┆ ---          ┆ ---          ┆ ---         ┆ ---   ┆ ---     ┆ ---        ┆ ---          ┆ ---          ┆ rcharge       ┆ ---         ┆ ---           ┆ d            ┆ ---          ┆ ---          │\n",
       "│ i64      ┆ ---           ┆ ---           ┆ ---           ┆ f64           ┆ i64        ┆ i64          ┆ i64          ┆ i64          ┆ f64         ┆ f64   ┆ f64     ┆ f64        ┆ f64          ┆ f64          ┆ ---           ┆ f64         ┆ f64           ┆ ---          ┆ str          ┆ str          │\n",
       "│          ┆ datetime[μs]  ┆ datetime[μs]  ┆ i64           ┆               ┆            ┆              ┆              ┆              ┆             ┆       ┆         ┆            ┆              ┆              ┆ f64           ┆             ┆               ┆ f64          ┆              ┆              │\n",
       "╞══════════╪═══════════════╪═══════════════╪═══════════════╪═══════════════╪════════════╪══════════════╪══════════════╪══════════════╪═════════════╪═══════╪═════════╪════════════╪══════════════╪══════════════╪═══════════════╪═════════════╪═══════════════╪══════════════╪══════════════╪══════════════╡\n",
       "│ 1        ┆ 2022-01-01    ┆ 2022-01-01    ┆ 2             ┆ 3.8           ┆ 1          ┆ 142          ┆ 236          ┆ 1            ┆ 14.5        ┆ 3.0   ┆ 0.5     ┆ 3.65       ┆ 0.0          ┆ 21.95        ┆ 2.5           ┆ 0.0         ┆ 17.816667     ┆ 12.797007    ┆ Lincoln      ┆ Upper East   │\n",
       "│          ┆ 00:35:40      ┆ 00:53:29      ┆               ┆               ┆            ┆              ┆              ┆              ┆             ┆       ┆         ┆            ┆              ┆              ┆               ┆             ┆               ┆              ┆ Square East  ┆ Side North   │\n",
       "├╌╌╌╌╌╌╌╌╌╌┼╌╌╌╌╌╌╌╌╌╌╌╌╌╌╌┼╌╌╌╌╌╌╌╌╌╌╌╌╌╌╌┼╌╌╌╌╌╌╌╌╌╌╌╌╌╌╌┼╌╌╌╌╌╌╌╌╌╌╌╌╌╌╌┼╌╌╌╌╌╌╌╌╌╌╌╌┼╌╌╌╌╌╌╌╌╌╌╌╌╌╌┼╌╌╌╌╌╌╌╌╌╌╌╌╌╌┼╌╌╌╌╌╌╌╌╌╌╌╌╌╌┼╌╌╌╌╌╌╌╌╌╌╌╌╌┼╌╌╌╌╌╌╌┼╌╌╌╌╌╌╌╌╌┼╌╌╌╌╌╌╌╌╌╌╌╌┼╌╌╌╌╌╌╌╌╌╌╌╌╌╌┼╌╌╌╌╌╌╌╌╌╌╌╌╌╌┼╌╌╌╌╌╌╌╌╌╌╌╌╌╌╌┼╌╌╌╌╌╌╌╌╌╌╌╌╌┼╌╌╌╌╌╌╌╌╌╌╌╌╌╌╌┼╌╌╌╌╌╌╌╌╌╌╌╌╌╌┼╌╌╌╌╌╌╌╌╌╌╌╌╌╌┼╌╌╌╌╌╌╌╌╌╌╌╌╌╌┤\n",
       "│ 1        ┆ 2022-01-01    ┆ 2022-01-01    ┆ 1             ┆ 2.1           ┆ 1          ┆ 236          ┆ 42           ┆ 1            ┆ 8.0         ┆ 0.5   ┆ 0.5     ┆ 4.0        ┆ 0.0          ┆ 13.3         ┆ 0.0           ┆ 0.0         ┆ 8.4           ┆ 15.0         ┆ Upper East   ┆ Central      │\n",
       "│          ┆ 00:33:43      ┆ 00:42:07      ┆               ┆               ┆            ┆              ┆              ┆              ┆             ┆       ┆         ┆            ┆              ┆              ┆               ┆             ┆               ┆              ┆ Side North   ┆ Harlem North │\n",
       "├╌╌╌╌╌╌╌╌╌╌┼╌╌╌╌╌╌╌╌╌╌╌╌╌╌╌┼╌╌╌╌╌╌╌╌╌╌╌╌╌╌╌┼╌╌╌╌╌╌╌╌╌╌╌╌╌╌╌┼╌╌╌╌╌╌╌╌╌╌╌╌╌╌╌┼╌╌╌╌╌╌╌╌╌╌╌╌┼╌╌╌╌╌╌╌╌╌╌╌╌╌╌┼╌╌╌╌╌╌╌╌╌╌╌╌╌╌┼╌╌╌╌╌╌╌╌╌╌╌╌╌╌┼╌╌╌╌╌╌╌╌╌╌╌╌╌┼╌╌╌╌╌╌╌┼╌╌╌╌╌╌╌╌╌┼╌╌╌╌╌╌╌╌╌╌╌╌┼╌╌╌╌╌╌╌╌╌╌╌╌╌╌┼╌╌╌╌╌╌╌╌╌╌╌╌╌╌┼╌╌╌╌╌╌╌╌╌╌╌╌╌╌╌┼╌╌╌╌╌╌╌╌╌╌╌╌╌┼╌╌╌╌╌╌╌╌╌╌╌╌╌╌╌┼╌╌╌╌╌╌╌╌╌╌╌╌╌╌┼╌╌╌╌╌╌╌╌╌╌╌╌╌╌┼╌╌╌╌╌╌╌╌╌╌╌╌╌╌┤\n",
       "│ 2        ┆ 2022-01-01    ┆ 2022-01-01    ┆ 1             ┆ 0.97          ┆ 1          ┆ 166          ┆ 166          ┆ 1            ┆ 7.5         ┆ 0.5   ┆ 0.5     ┆ 1.76       ┆ 0.0          ┆ 10.56        ┆ 0.0           ┆ 0.0         ┆ 8.966667      ┆ 6.490706     ┆ Morningside  ┆ Morningside  │\n",
       "│          ┆ 00:53:21      ┆ 01:02:19      ┆               ┆               ┆            ┆              ┆              ┆              ┆             ┆       ┆         ┆            ┆              ┆              ┆               ┆             ┆               ┆              ┆ Heights      ┆ Heights      │\n",
       "├╌╌╌╌╌╌╌╌╌╌┼╌╌╌╌╌╌╌╌╌╌╌╌╌╌╌┼╌╌╌╌╌╌╌╌╌╌╌╌╌╌╌┼╌╌╌╌╌╌╌╌╌╌╌╌╌╌╌┼╌╌╌╌╌╌╌╌╌╌╌╌╌╌╌┼╌╌╌╌╌╌╌╌╌╌╌╌┼╌╌╌╌╌╌╌╌╌╌╌╌╌╌┼╌╌╌╌╌╌╌╌╌╌╌╌╌╌┼╌╌╌╌╌╌╌╌╌╌╌╌╌╌┼╌╌╌╌╌╌╌╌╌╌╌╌╌┼╌╌╌╌╌╌╌┼╌╌╌╌╌╌╌╌╌┼╌╌╌╌╌╌╌╌╌╌╌╌┼╌╌╌╌╌╌╌╌╌╌╌╌╌╌┼╌╌╌╌╌╌╌╌╌╌╌╌╌╌┼╌╌╌╌╌╌╌╌╌╌╌╌╌╌╌┼╌╌╌╌╌╌╌╌╌╌╌╌╌┼╌╌╌╌╌╌╌╌╌╌╌╌╌╌╌┼╌╌╌╌╌╌╌╌╌╌╌╌╌╌┼╌╌╌╌╌╌╌╌╌╌╌╌╌╌┼╌╌╌╌╌╌╌╌╌╌╌╌╌╌┤\n",
       "│ 2        ┆ 2022-01-01    ┆ 2022-01-01    ┆ 1             ┆ 1.09          ┆ 1          ┆ 114          ┆ 68           ┆ 2            ┆ 8.0         ┆ 0.5   ┆ 0.5     ┆ 0.0        ┆ 0.0          ┆ 11.8         ┆ 2.5           ┆ 0.0         ┆ 10.033333     ┆ 6.518272     ┆ Greenwich    ┆ East Chelsea │\n",
       "│          ┆ 00:25:21      ┆ 00:35:23      ┆               ┆               ┆            ┆              ┆              ┆              ┆             ┆       ┆         ┆            ┆              ┆              ┆               ┆             ┆               ┆              ┆ Village      ┆              │\n",
       "│          ┆               ┆               ┆               ┆               ┆            ┆              ┆              ┆              ┆             ┆       ┆         ┆            ┆              ┆              ┆               ┆             ┆               ┆              ┆ South        ┆              │\n",
       "├╌╌╌╌╌╌╌╌╌╌┼╌╌╌╌╌╌╌╌╌╌╌╌╌╌╌┼╌╌╌╌╌╌╌╌╌╌╌╌╌╌╌┼╌╌╌╌╌╌╌╌╌╌╌╌╌╌╌┼╌╌╌╌╌╌╌╌╌╌╌╌╌╌╌┼╌╌╌╌╌╌╌╌╌╌╌╌┼╌╌╌╌╌╌╌╌╌╌╌╌╌╌┼╌╌╌╌╌╌╌╌╌╌╌╌╌╌┼╌╌╌╌╌╌╌╌╌╌╌╌╌╌┼╌╌╌╌╌╌╌╌╌╌╌╌╌┼╌╌╌╌╌╌╌┼╌╌╌╌╌╌╌╌╌┼╌╌╌╌╌╌╌╌╌╌╌╌┼╌╌╌╌╌╌╌╌╌╌╌╌╌╌┼╌╌╌╌╌╌╌╌╌╌╌╌╌╌┼╌╌╌╌╌╌╌╌╌╌╌╌╌╌╌┼╌╌╌╌╌╌╌╌╌╌╌╌╌┼╌╌╌╌╌╌╌╌╌╌╌╌╌╌╌┼╌╌╌╌╌╌╌╌╌╌╌╌╌╌┼╌╌╌╌╌╌╌╌╌╌╌╌╌╌┼╌╌╌╌╌╌╌╌╌╌╌╌╌╌┤\n",
       "│ 2        ┆ 2022-01-01    ┆ 2022-01-01    ┆ 1             ┆ 4.3           ┆ 1          ┆ 68           ┆ 163          ┆ 1            ┆ 23.5        ┆ 0.5   ┆ 0.5     ┆ 3.0        ┆ 0.0          ┆ 30.3         ┆ 2.5           ┆ 0.0         ┆ 37.533333     ┆ 6.87389      ┆ East Chelsea ┆ Midtown      │\n",
       "│          ┆ 00:36:48      ┆ 01:14:20      ┆               ┆               ┆            ┆              ┆              ┆              ┆             ┆       ┆         ┆            ┆              ┆              ┆               ┆             ┆               ┆              ┆              ┆ North        │\n",
       "├╌╌╌╌╌╌╌╌╌╌┼╌╌╌╌╌╌╌╌╌╌╌╌╌╌╌┼╌╌╌╌╌╌╌╌╌╌╌╌╌╌╌┼╌╌╌╌╌╌╌╌╌╌╌╌╌╌╌┼╌╌╌╌╌╌╌╌╌╌╌╌╌╌╌┼╌╌╌╌╌╌╌╌╌╌╌╌┼╌╌╌╌╌╌╌╌╌╌╌╌╌╌┼╌╌╌╌╌╌╌╌╌╌╌╌╌╌┼╌╌╌╌╌╌╌╌╌╌╌╌╌╌┼╌╌╌╌╌╌╌╌╌╌╌╌╌┼╌╌╌╌╌╌╌┼╌╌╌╌╌╌╌╌╌┼╌╌╌╌╌╌╌╌╌╌╌╌┼╌╌╌╌╌╌╌╌╌╌╌╌╌╌┼╌╌╌╌╌╌╌╌╌╌╌╌╌╌┼╌╌╌╌╌╌╌╌╌╌╌╌╌╌╌┼╌╌╌╌╌╌╌╌╌╌╌╌╌┼╌╌╌╌╌╌╌╌╌╌╌╌╌╌╌┼╌╌╌╌╌╌╌╌╌╌╌╌╌╌┼╌╌╌╌╌╌╌╌╌╌╌╌╌╌┼╌╌╌╌╌╌╌╌╌╌╌╌╌╌┤\n",
       "│ 1        ┆ 2022-01-01    ┆ 2022-01-01    ┆ 1             ┆ 10.3          ┆ 1          ┆ 138          ┆ 161          ┆ 1            ┆ 33.0        ┆ 3.0   ┆ 0.5     ┆ 13.0       ┆ 6.55         ┆ 56.35        ┆ 2.5           ┆ 0.0         ┆ 29.55         ┆ 20.913706    ┆ LaGuardia    ┆ Midtown      │\n",
       "│          ┆ 00:40:15      ┆ 01:09:48      ┆               ┆               ┆            ┆              ┆              ┆              ┆             ┆       ┆         ┆            ┆              ┆              ┆               ┆             ┆               ┆              ┆ Airport      ┆ Center       │\n",
       "├╌╌╌╌╌╌╌╌╌╌┼╌╌╌╌╌╌╌╌╌╌╌╌╌╌╌┼╌╌╌╌╌╌╌╌╌╌╌╌╌╌╌┼╌╌╌╌╌╌╌╌╌╌╌╌╌╌╌┼╌╌╌╌╌╌╌╌╌╌╌╌╌╌╌┼╌╌╌╌╌╌╌╌╌╌╌╌┼╌╌╌╌╌╌╌╌╌╌╌╌╌╌┼╌╌╌╌╌╌╌╌╌╌╌╌╌╌┼╌╌╌╌╌╌╌╌╌╌╌╌╌╌┼╌╌╌╌╌╌╌╌╌╌╌╌╌┼╌╌╌╌╌╌╌┼╌╌╌╌╌╌╌╌╌┼╌╌╌╌╌╌╌╌╌╌╌╌┼╌╌╌╌╌╌╌╌╌╌╌╌╌╌┼╌╌╌╌╌╌╌╌╌╌╌╌╌╌┼╌╌╌╌╌╌╌╌╌╌╌╌╌╌╌┼╌╌╌╌╌╌╌╌╌╌╌╌╌┼╌╌╌╌╌╌╌╌╌╌╌╌╌╌╌┼╌╌╌╌╌╌╌╌╌╌╌╌╌╌┼╌╌╌╌╌╌╌╌╌╌╌╌╌╌┼╌╌╌╌╌╌╌╌╌╌╌╌╌╌┤\n",
       "│ 2        ┆ 2022-01-01    ┆ 2022-01-01    ┆ 1             ┆ 5.07          ┆ 1          ┆ 233          ┆ 87           ┆ 1            ┆ 17.0        ┆ 0.5   ┆ 0.5     ┆ 5.2        ┆ 0.0          ┆ 26.0         ┆ 2.5           ┆ 0.0         ┆ 14.133333     ┆ 21.523585    ┆ UN/Turtle    ┆ Financial    │\n",
       "│          ┆ 00:20:50      ┆ 00:34:58      ┆               ┆               ┆            ┆              ┆              ┆              ┆             ┆       ┆         ┆            ┆              ┆              ┆               ┆             ┆               ┆              ┆ Bay South    ┆ District     │\n",
       "│          ┆               ┆               ┆               ┆               ┆            ┆              ┆              ┆              ┆             ┆       ┆         ┆            ┆              ┆              ┆               ┆             ┆               ┆              ┆              ┆ North        │\n",
       "├╌╌╌╌╌╌╌╌╌╌┼╌╌╌╌╌╌╌╌╌╌╌╌╌╌╌┼╌╌╌╌╌╌╌╌╌╌╌╌╌╌╌┼╌╌╌╌╌╌╌╌╌╌╌╌╌╌╌┼╌╌╌╌╌╌╌╌╌╌╌╌╌╌╌┼╌╌╌╌╌╌╌╌╌╌╌╌┼╌╌╌╌╌╌╌╌╌╌╌╌╌╌┼╌╌╌╌╌╌╌╌╌╌╌╌╌╌┼╌╌╌╌╌╌╌╌╌╌╌╌╌╌┼╌╌╌╌╌╌╌╌╌╌╌╌╌┼╌╌╌╌╌╌╌┼╌╌╌╌╌╌╌╌╌┼╌╌╌╌╌╌╌╌╌╌╌╌┼╌╌╌╌╌╌╌╌╌╌╌╌╌╌┼╌╌╌╌╌╌╌╌╌╌╌╌╌╌┼╌╌╌╌╌╌╌╌╌╌╌╌╌╌╌┼╌╌╌╌╌╌╌╌╌╌╌╌╌┼╌╌╌╌╌╌╌╌╌╌╌╌╌╌╌┼╌╌╌╌╌╌╌╌╌╌╌╌╌╌┼╌╌╌╌╌╌╌╌╌╌╌╌╌╌┼╌╌╌╌╌╌╌╌╌╌╌╌╌╌┤\n",
       "│ 2        ┆ 2022-01-01    ┆ 2022-01-01    ┆ 1             ┆ 2.02          ┆ 1          ┆ 238          ┆ 152          ┆ 2            ┆ 9.0         ┆ 0.5   ┆ 0.5     ┆ 0.0        ┆ 0.0          ┆ 12.8         ┆ 2.5           ┆ 0.0         ┆ 9.683333      ┆ 12.516351    ┆ Upper West   ┆ Manhattanvil │\n",
       "│          ┆ 00:13:04      ┆ 00:22:45      ┆               ┆               ┆            ┆              ┆              ┆              ┆             ┆       ┆         ┆            ┆              ┆              ┆               ┆             ┆               ┆              ┆ Side North   ┆ le           │\n",
       "├╌╌╌╌╌╌╌╌╌╌┼╌╌╌╌╌╌╌╌╌╌╌╌╌╌╌┼╌╌╌╌╌╌╌╌╌╌╌╌╌╌╌┼╌╌╌╌╌╌╌╌╌╌╌╌╌╌╌┼╌╌╌╌╌╌╌╌╌╌╌╌╌╌╌┼╌╌╌╌╌╌╌╌╌╌╌╌┼╌╌╌╌╌╌╌╌╌╌╌╌╌╌┼╌╌╌╌╌╌╌╌╌╌╌╌╌╌┼╌╌╌╌╌╌╌╌╌╌╌╌╌╌┼╌╌╌╌╌╌╌╌╌╌╌╌╌┼╌╌╌╌╌╌╌┼╌╌╌╌╌╌╌╌╌┼╌╌╌╌╌╌╌╌╌╌╌╌┼╌╌╌╌╌╌╌╌╌╌╌╌╌╌┼╌╌╌╌╌╌╌╌╌╌╌╌╌╌┼╌╌╌╌╌╌╌╌╌╌╌╌╌╌╌┼╌╌╌╌╌╌╌╌╌╌╌╌╌┼╌╌╌╌╌╌╌╌╌╌╌╌╌╌╌┼╌╌╌╌╌╌╌╌╌╌╌╌╌╌┼╌╌╌╌╌╌╌╌╌╌╌╌╌╌┼╌╌╌╌╌╌╌╌╌╌╌╌╌╌┤\n",
       "│ 2        ┆ 2022-01-01    ┆ 2022-01-01    ┆ 1             ┆ 2.71          ┆ 1          ┆ 166          ┆ 236          ┆ 1            ┆ 12.0        ┆ 0.5   ┆ 0.5     ┆ 2.25       ┆ 0.0          ┆ 18.05        ┆ 2.5           ┆ 0.0         ┆ 14.783333     ┆ 10.998873    ┆ Morningside  ┆ Upper East   │\n",
       "│          ┆ 00:30:02      ┆ 00:44:49      ┆               ┆               ┆            ┆              ┆              ┆              ┆             ┆       ┆         ┆            ┆              ┆              ┆               ┆             ┆               ┆              ┆ Heights      ┆ Side North   │\n",
       "├╌╌╌╌╌╌╌╌╌╌┼╌╌╌╌╌╌╌╌╌╌╌╌╌╌╌┼╌╌╌╌╌╌╌╌╌╌╌╌╌╌╌┼╌╌╌╌╌╌╌╌╌╌╌╌╌╌╌┼╌╌╌╌╌╌╌╌╌╌╌╌╌╌╌┼╌╌╌╌╌╌╌╌╌╌╌╌┼╌╌╌╌╌╌╌╌╌╌╌╌╌╌┼╌╌╌╌╌╌╌╌╌╌╌╌╌╌┼╌╌╌╌╌╌╌╌╌╌╌╌╌╌┼╌╌╌╌╌╌╌╌╌╌╌╌╌┼╌╌╌╌╌╌╌┼╌╌╌╌╌╌╌╌╌┼╌╌╌╌╌╌╌╌╌╌╌╌┼╌╌╌╌╌╌╌╌╌╌╌╌╌╌┼╌╌╌╌╌╌╌╌╌╌╌╌╌╌┼╌╌╌╌╌╌╌╌╌╌╌╌╌╌╌┼╌╌╌╌╌╌╌╌╌╌╌╌╌┼╌╌╌╌╌╌╌╌╌╌╌╌╌╌╌┼╌╌╌╌╌╌╌╌╌╌╌╌╌╌┼╌╌╌╌╌╌╌╌╌╌╌╌╌╌┼╌╌╌╌╌╌╌╌╌╌╌╌╌╌┤\n",
       "│ 2        ┆ 2022-01-01    ┆ 2022-01-01    ┆ 1             ┆ 0.78          ┆ 1          ┆ 236          ┆ 141          ┆ 2            ┆ 5.0         ┆ 0.5   ┆ 0.5     ┆ 0.0        ┆ 0.0          ┆ 8.8          ┆ 2.5           ┆ 0.0         ┆ 4.6           ┆ 10.173913    ┆ Upper East   ┆ Lenox Hill   │\n",
       "│          ┆ 00:48:52      ┆ 00:53:28      ┆               ┆               ┆            ┆              ┆              ┆              ┆             ┆       ┆         ┆            ┆              ┆              ┆               ┆             ┆               ┆              ┆ Side North   ┆ West         │\n",
       "└──────────┴───────────────┴───────────────┴───────────────┴───────────────┴────────────┴──────────────┴──────────────┴──────────────┴─────────────┴───────┴─────────┴────────────┴──────────────┴──────────────┴───────────────┴─────────────┴───────────────┴──────────────┴──────────────┴──────────────┘"
      ]
     },
     "execution_count": 26,
     "metadata": {},
     "output_type": "execute_result"
    }
   ],
   "source": [
    "df_cleaned_35.head(10)"
   ]
  },
  {
   "cell_type": "code",
   "execution_count": 27,
   "id": "f5457357",
   "metadata": {},
   "outputs": [
    {
     "name": "stdout",
     "output_type": "stream",
     "text": [
      "31858\n"
     ]
    }
   ],
   "source": [
    "# print number of rows where average speed is greater than 80 mph\n",
    "print(\n",
    "    len(df_cleaned_35.filter(pl.col(\"average_speed\") > 80))\n",
    ")"
   ]
  },
  {
   "cell_type": "code",
   "execution_count": 28,
   "id": "155a8481",
   "metadata": {},
   "outputs": [],
   "source": [
    "# sort the dataframe by average speed in descending order\n",
    "#df_cleaned_35[df_cleaned_35[\"average_speed\"] > 80].sort_values(\"average_speed\", ascending=False).head(10)\n",
    "# as we can see there is an issue with some pickup and dropoff times\n",
    "# we will drop the rows where average speed is greater than 80 mph\n",
    "df_cleaned_35 = df_cleaned_35.filter(pl.col(\"average_speed\") <= 80)"
   ]
  },
  {
   "cell_type": "code",
   "execution_count": 29,
   "id": "89c61ee6",
   "metadata": {},
   "outputs": [
    {
     "name": "stdout",
     "output_type": "stream",
     "text": [
      "Percentage of data in df_cleaned_35 compared to df_cleaned: 95.42%\n"
     ]
    }
   ],
   "source": [
    "# how much percentage wise of data left compared to the original dataframe\n",
    "percentage = (len(df_cleaned_35) / len(df)) * 100\n",
    "print(f\"Percentage of data in df_cleaned_35 compared to df_cleaned: {percentage:.2f}%\")"
   ]
  },
  {
   "cell_type": "code",
   "execution_count": 30,
   "id": "9388bc59",
   "metadata": {},
   "outputs": [],
   "source": [
    "# if pickup and dropoff zones  are equal to 'NaN' replace with 'Outside NYC'\n",
    "df_cleaned_35 = df_cleaned_35.with_columns(\n",
    "    pl.col(\"pickup_zone\").fill_null(\"Outside NYC\"),\n",
    "    pl.col(\"dropoff_zone\").fill_null(\"Outside NYC\")\n",
    ")\n",
    "# check unique values in pickup and dropoff zones"
   ]
  },
  {
   "cell_type": "code",
   "execution_count": 31,
   "id": "f17ed196",
   "metadata": {},
   "outputs": [
    {
     "name": "stdout",
     "output_type": "stream",
     "text": [
      "261\n",
      "261\n"
     ]
    }
   ],
   "source": [
    "# check unique values in pickup and dropoff zones\n",
    "print(len(df_cleaned_35['pickup_zone'].unique()))\n",
    "print(len(df_cleaned_35['dropoff_zone'].unique()))"
   ]
  },
  {
   "cell_type": "code",
   "execution_count": 32,
   "id": "62e97383",
   "metadata": {},
   "outputs": [],
   "source": [
    "# drop any rows where pickup and dropoff zones are equal 'Outside NYC'\n",
    "df_cleaned_35 = df_cleaned_35.filter(\n",
    "    ~(\n",
    "        (pl.col(\"pickup_zone\") == \"Outside NYC\") & \n",
    "        (pl.col(\"dropoff_zone\") == \"Outside NYC\")\n",
    "    )\n",
    ")"
   ]
  },
  {
   "cell_type": "code",
   "execution_count": 33,
   "id": "561a7e20",
   "metadata": {},
   "outputs": [
    {
     "name": "stdout",
     "output_type": "stream",
     "text": [
      "42042\n"
     ]
    }
   ],
   "source": [
    "# how many different combinations of pickup and dropoff zones are there?\n",
    "unique_combinations = df_cleaned_35.select([\"pickup_zone\", \"dropoff_zone\"]).unique()\n",
    "print(unique_combinations.height)"
   ]
  },
  {
   "cell_type": "code",
   "execution_count": 34,
   "id": "10261995",
   "metadata": {},
   "outputs": [
    {
     "name": "stdout",
     "output_type": "stream",
     "text": [
      "shape: (1, 1)\n",
      "┌──────────────┐\n",
      "│ pick_up_time │\n",
      "│ ---          │\n",
      "│ u32          │\n",
      "╞══════════════╡\n",
      "│ 1440         │\n",
      "└──────────────┘\n"
     ]
    }
   ],
   "source": [
    "# Extract hour of day and day of week from pickup timestamp\n",
    "df_cleaned_35 = df_cleaned_35.with_columns(\n",
    "    pl.col(\"tpep_pickup_datetime\")\n",
    "    .dt.strftime(\"%H:%M\")  # Format to hour:minute only\n",
    "    .alias(\"pick_up_time\"),\n",
    "    \n",
    "    (pl.col(\"tpep_pickup_datetime\").dt.weekday() + 1).alias(\"day_of_week\")  # Monday=1\n",
    ")\n",
    "\n",
    "# Get unique values in the 'hour_of_day' column\n",
    "unique_hours = df_cleaned_35.select(pl.col(\"pick_up_time\").unique())\n",
    "\n",
    "# Show the unique hours\n",
    "print(unique_hours.count())\n",
    "#print(\"\\n\",df_cleaned_35.select(\"day_of_week\").unique())"
   ]
  },
  {
   "cell_type": "code",
   "execution_count": 35,
   "id": "0c9db19f",
   "metadata": {},
   "outputs": [],
   "source": [
    "# Define peak hours (8AM to 7PM)\n",
    "peak_hours = range(8, 19)\n",
    "\n",
    "# Create is_rush_hour column using vectorized operations\n",
    "df_cleaned_35 = df_cleaned_35.with_columns(\n",
    "    pl.when(\n",
    "        (pl.col(\"pick_up_time\").str.slice(0, 2).cast(pl.Int64()).is_in(peak_hours)) & \n",
    "        (pl.col(\"average_speed\") <= 12)\n",
    "    ).then(1).otherwise(0).alias(\"is_rush_hour\")\n",
    ")\n"
   ]
  },
  {
   "cell_type": "code",
   "execution_count": 36,
   "id": "78f28d61",
   "metadata": {},
   "outputs": [],
   "source": [
    "# only leave columns in df_cleaned_35 where trip_duration is greater or equal to 1 and less than or equal to 90\n",
    "df_cleaned_35 = df_cleaned_35.filter(\n",
    "    (pl.col(\"trip_duration\") >= 1) & \n",
    "    (pl.col(\"trip_duration\") <= 90)\n",
    ")"
   ]
  },
  {
   "cell_type": "code",
   "execution_count": 37,
   "id": "ac46708b",
   "metadata": {},
   "outputs": [
    {
     "name": "stdout",
     "output_type": "stream",
     "text": [
      "Percentage of data in df_cleaned_35 compared to df_cleaned: 94.22%\n"
     ]
    }
   ],
   "source": [
    "percentage = (len(df_cleaned_35) / len(df)) * 100\n",
    "print(f\"Percentage of data in df_cleaned_35 compared to df_cleaned: {percentage:.2f}%\")"
   ]
  },
  {
   "cell_type": "code",
   "execution_count": 38,
   "id": "a5a50aca",
   "metadata": {},
   "outputs": [
    {
     "name": "stdout",
     "output_type": "stream",
     "text": [
      "shape: (37_363_986, 12)\n",
      "┌───────────────────────────────┬──────────────────────────┬──────────────┬─────────────┬─────────────────┬───────────────┬────────────┬──────────────────────┬───────────────┬──────────────┬───────────────┬──────────────┐\n",
      "│ pickup_zone                   ┆ dropoff_zone             ┆ pick_up_time ┆ day_of_week ┆ passenger_count ┆ trip_distance ┆ RatecodeID ┆ congestion_surcharge ┆ average_speed ┆ is_rush_hour ┆ trip_duration ┆ total_amount │\n",
      "│ ---                           ┆ ---                      ┆ ---          ┆ ---         ┆ ---             ┆ ---           ┆ ---        ┆ ---                  ┆ ---           ┆ ---          ┆ ---           ┆ ---          │\n",
      "│ str                           ┆ str                      ┆ str          ┆ i8          ┆ i64             ┆ f64           ┆ i64        ┆ f64                  ┆ f64           ┆ i32          ┆ f64           ┆ f64          │\n",
      "╞═══════════════════════════════╪══════════════════════════╪══════════════╪═════════════╪═════════════════╪═══════════════╪════════════╪══════════════════════╪═══════════════╪══════════════╪═══════════════╪══════════════╡\n",
      "│ Lincoln Square East           ┆ Upper East Side North    ┆ 00:35        ┆ 7           ┆ 2               ┆ 3.8           ┆ 1          ┆ 2.5                  ┆ 12.797007     ┆ 0            ┆ 17.816667     ┆ 21.95        │\n",
      "├╌╌╌╌╌╌╌╌╌╌╌╌╌╌╌╌╌╌╌╌╌╌╌╌╌╌╌╌╌╌╌┼╌╌╌╌╌╌╌╌╌╌╌╌╌╌╌╌╌╌╌╌╌╌╌╌╌╌┼╌╌╌╌╌╌╌╌╌╌╌╌╌╌┼╌╌╌╌╌╌╌╌╌╌╌╌╌┼╌╌╌╌╌╌╌╌╌╌╌╌╌╌╌╌╌┼╌╌╌╌╌╌╌╌╌╌╌╌╌╌╌┼╌╌╌╌╌╌╌╌╌╌╌╌┼╌╌╌╌╌╌╌╌╌╌╌╌╌╌╌╌╌╌╌╌╌╌┼╌╌╌╌╌╌╌╌╌╌╌╌╌╌╌┼╌╌╌╌╌╌╌╌╌╌╌╌╌╌┼╌╌╌╌╌╌╌╌╌╌╌╌╌╌╌┼╌╌╌╌╌╌╌╌╌╌╌╌╌╌┤\n",
      "│ Upper East Side North         ┆ Central Harlem North     ┆ 00:33        ┆ 7           ┆ 1               ┆ 2.1           ┆ 1          ┆ 0.0                  ┆ 15.0          ┆ 0            ┆ 8.4           ┆ 13.3         │\n",
      "├╌╌╌╌╌╌╌╌╌╌╌╌╌╌╌╌╌╌╌╌╌╌╌╌╌╌╌╌╌╌╌┼╌╌╌╌╌╌╌╌╌╌╌╌╌╌╌╌╌╌╌╌╌╌╌╌╌╌┼╌╌╌╌╌╌╌╌╌╌╌╌╌╌┼╌╌╌╌╌╌╌╌╌╌╌╌╌┼╌╌╌╌╌╌╌╌╌╌╌╌╌╌╌╌╌┼╌╌╌╌╌╌╌╌╌╌╌╌╌╌╌┼╌╌╌╌╌╌╌╌╌╌╌╌┼╌╌╌╌╌╌╌╌╌╌╌╌╌╌╌╌╌╌╌╌╌╌┼╌╌╌╌╌╌╌╌╌╌╌╌╌╌╌┼╌╌╌╌╌╌╌╌╌╌╌╌╌╌┼╌╌╌╌╌╌╌╌╌╌╌╌╌╌╌┼╌╌╌╌╌╌╌╌╌╌╌╌╌╌┤\n",
      "│ Morningside Heights           ┆ Morningside Heights      ┆ 00:53        ┆ 7           ┆ 1               ┆ 0.97          ┆ 1          ┆ 0.0                  ┆ 6.490706      ┆ 0            ┆ 8.966667      ┆ 10.56        │\n",
      "├╌╌╌╌╌╌╌╌╌╌╌╌╌╌╌╌╌╌╌╌╌╌╌╌╌╌╌╌╌╌╌┼╌╌╌╌╌╌╌╌╌╌╌╌╌╌╌╌╌╌╌╌╌╌╌╌╌╌┼╌╌╌╌╌╌╌╌╌╌╌╌╌╌┼╌╌╌╌╌╌╌╌╌╌╌╌╌┼╌╌╌╌╌╌╌╌╌╌╌╌╌╌╌╌╌┼╌╌╌╌╌╌╌╌╌╌╌╌╌╌╌┼╌╌╌╌╌╌╌╌╌╌╌╌┼╌╌╌╌╌╌╌╌╌╌╌╌╌╌╌╌╌╌╌╌╌╌┼╌╌╌╌╌╌╌╌╌╌╌╌╌╌╌┼╌╌╌╌╌╌╌╌╌╌╌╌╌╌┼╌╌╌╌╌╌╌╌╌╌╌╌╌╌╌┼╌╌╌╌╌╌╌╌╌╌╌╌╌╌┤\n",
      "│ Greenwich Village South       ┆ East Chelsea             ┆ 00:25        ┆ 7           ┆ 1               ┆ 1.09          ┆ 1          ┆ 2.5                  ┆ 6.518272      ┆ 0            ┆ 10.033333     ┆ 11.8         │\n",
      "├╌╌╌╌╌╌╌╌╌╌╌╌╌╌╌╌╌╌╌╌╌╌╌╌╌╌╌╌╌╌╌┼╌╌╌╌╌╌╌╌╌╌╌╌╌╌╌╌╌╌╌╌╌╌╌╌╌╌┼╌╌╌╌╌╌╌╌╌╌╌╌╌╌┼╌╌╌╌╌╌╌╌╌╌╌╌╌┼╌╌╌╌╌╌╌╌╌╌╌╌╌╌╌╌╌┼╌╌╌╌╌╌╌╌╌╌╌╌╌╌╌┼╌╌╌╌╌╌╌╌╌╌╌╌┼╌╌╌╌╌╌╌╌╌╌╌╌╌╌╌╌╌╌╌╌╌╌┼╌╌╌╌╌╌╌╌╌╌╌╌╌╌╌┼╌╌╌╌╌╌╌╌╌╌╌╌╌╌┼╌╌╌╌╌╌╌╌╌╌╌╌╌╌╌┼╌╌╌╌╌╌╌╌╌╌╌╌╌╌┤\n",
      "│ East Chelsea                  ┆ Midtown North            ┆ 00:36        ┆ 7           ┆ 1               ┆ 4.3           ┆ 1          ┆ 2.5                  ┆ 6.87389       ┆ 0            ┆ 37.533333     ┆ 30.3         │\n",
      "├╌╌╌╌╌╌╌╌╌╌╌╌╌╌╌╌╌╌╌╌╌╌╌╌╌╌╌╌╌╌╌┼╌╌╌╌╌╌╌╌╌╌╌╌╌╌╌╌╌╌╌╌╌╌╌╌╌╌┼╌╌╌╌╌╌╌╌╌╌╌╌╌╌┼╌╌╌╌╌╌╌╌╌╌╌╌╌┼╌╌╌╌╌╌╌╌╌╌╌╌╌╌╌╌╌┼╌╌╌╌╌╌╌╌╌╌╌╌╌╌╌┼╌╌╌╌╌╌╌╌╌╌╌╌┼╌╌╌╌╌╌╌╌╌╌╌╌╌╌╌╌╌╌╌╌╌╌┼╌╌╌╌╌╌╌╌╌╌╌╌╌╌╌┼╌╌╌╌╌╌╌╌╌╌╌╌╌╌┼╌╌╌╌╌╌╌╌╌╌╌╌╌╌╌┼╌╌╌╌╌╌╌╌╌╌╌╌╌╌┤\n",
      "│ LaGuardia Airport             ┆ Midtown Center           ┆ 00:40        ┆ 7           ┆ 1               ┆ 10.3          ┆ 1          ┆ 2.5                  ┆ 20.913706     ┆ 0            ┆ 29.55         ┆ 56.35        │\n",
      "├╌╌╌╌╌╌╌╌╌╌╌╌╌╌╌╌╌╌╌╌╌╌╌╌╌╌╌╌╌╌╌┼╌╌╌╌╌╌╌╌╌╌╌╌╌╌╌╌╌╌╌╌╌╌╌╌╌╌┼╌╌╌╌╌╌╌╌╌╌╌╌╌╌┼╌╌╌╌╌╌╌╌╌╌╌╌╌┼╌╌╌╌╌╌╌╌╌╌╌╌╌╌╌╌╌┼╌╌╌╌╌╌╌╌╌╌╌╌╌╌╌┼╌╌╌╌╌╌╌╌╌╌╌╌┼╌╌╌╌╌╌╌╌╌╌╌╌╌╌╌╌╌╌╌╌╌╌┼╌╌╌╌╌╌╌╌╌╌╌╌╌╌╌┼╌╌╌╌╌╌╌╌╌╌╌╌╌╌┼╌╌╌╌╌╌╌╌╌╌╌╌╌╌╌┼╌╌╌╌╌╌╌╌╌╌╌╌╌╌┤\n",
      "│ UN/Turtle Bay South           ┆ Financial District North ┆ 00:20        ┆ 7           ┆ 1               ┆ 5.07          ┆ 1          ┆ 2.5                  ┆ 21.523585     ┆ 0            ┆ 14.133333     ┆ 26.0         │\n",
      "├╌╌╌╌╌╌╌╌╌╌╌╌╌╌╌╌╌╌╌╌╌╌╌╌╌╌╌╌╌╌╌┼╌╌╌╌╌╌╌╌╌╌╌╌╌╌╌╌╌╌╌╌╌╌╌╌╌╌┼╌╌╌╌╌╌╌╌╌╌╌╌╌╌┼╌╌╌╌╌╌╌╌╌╌╌╌╌┼╌╌╌╌╌╌╌╌╌╌╌╌╌╌╌╌╌┼╌╌╌╌╌╌╌╌╌╌╌╌╌╌╌┼╌╌╌╌╌╌╌╌╌╌╌╌┼╌╌╌╌╌╌╌╌╌╌╌╌╌╌╌╌╌╌╌╌╌╌┼╌╌╌╌╌╌╌╌╌╌╌╌╌╌╌┼╌╌╌╌╌╌╌╌╌╌╌╌╌╌┼╌╌╌╌╌╌╌╌╌╌╌╌╌╌╌┼╌╌╌╌╌╌╌╌╌╌╌╌╌╌┤\n",
      "│ Upper West Side North         ┆ Manhattanville           ┆ 00:13        ┆ 7           ┆ 1               ┆ 2.02          ┆ 1          ┆ 2.5                  ┆ 12.516351     ┆ 0            ┆ 9.683333      ┆ 12.8         │\n",
      "├╌╌╌╌╌╌╌╌╌╌╌╌╌╌╌╌╌╌╌╌╌╌╌╌╌╌╌╌╌╌╌┼╌╌╌╌╌╌╌╌╌╌╌╌╌╌╌╌╌╌╌╌╌╌╌╌╌╌┼╌╌╌╌╌╌╌╌╌╌╌╌╌╌┼╌╌╌╌╌╌╌╌╌╌╌╌╌┼╌╌╌╌╌╌╌╌╌╌╌╌╌╌╌╌╌┼╌╌╌╌╌╌╌╌╌╌╌╌╌╌╌┼╌╌╌╌╌╌╌╌╌╌╌╌┼╌╌╌╌╌╌╌╌╌╌╌╌╌╌╌╌╌╌╌╌╌╌┼╌╌╌╌╌╌╌╌╌╌╌╌╌╌╌┼╌╌╌╌╌╌╌╌╌╌╌╌╌╌┼╌╌╌╌╌╌╌╌╌╌╌╌╌╌╌┼╌╌╌╌╌╌╌╌╌╌╌╌╌╌┤\n",
      "│ Morningside Heights           ┆ Upper East Side North    ┆ 00:30        ┆ 7           ┆ 1               ┆ 2.71          ┆ 1          ┆ 2.5                  ┆ 10.998873     ┆ 0            ┆ 14.783333     ┆ 18.05        │\n",
      "├╌╌╌╌╌╌╌╌╌╌╌╌╌╌╌╌╌╌╌╌╌╌╌╌╌╌╌╌╌╌╌┼╌╌╌╌╌╌╌╌╌╌╌╌╌╌╌╌╌╌╌╌╌╌╌╌╌╌┼╌╌╌╌╌╌╌╌╌╌╌╌╌╌┼╌╌╌╌╌╌╌╌╌╌╌╌╌┼╌╌╌╌╌╌╌╌╌╌╌╌╌╌╌╌╌┼╌╌╌╌╌╌╌╌╌╌╌╌╌╌╌┼╌╌╌╌╌╌╌╌╌╌╌╌┼╌╌╌╌╌╌╌╌╌╌╌╌╌╌╌╌╌╌╌╌╌╌┼╌╌╌╌╌╌╌╌╌╌╌╌╌╌╌┼╌╌╌╌╌╌╌╌╌╌╌╌╌╌┼╌╌╌╌╌╌╌╌╌╌╌╌╌╌╌┼╌╌╌╌╌╌╌╌╌╌╌╌╌╌┤\n",
      "│ Upper East Side North         ┆ Lenox Hill West          ┆ 00:48        ┆ 7           ┆ 1               ┆ 0.78          ┆ 1          ┆ 2.5                  ┆ 10.173913     ┆ 0            ┆ 4.6           ┆ 8.8          │\n",
      "├╌╌╌╌╌╌╌╌╌╌╌╌╌╌╌╌╌╌╌╌╌╌╌╌╌╌╌╌╌╌╌┼╌╌╌╌╌╌╌╌╌╌╌╌╌╌╌╌╌╌╌╌╌╌╌╌╌╌┼╌╌╌╌╌╌╌╌╌╌╌╌╌╌┼╌╌╌╌╌╌╌╌╌╌╌╌╌┼╌╌╌╌╌╌╌╌╌╌╌╌╌╌╌╌╌┼╌╌╌╌╌╌╌╌╌╌╌╌╌╌╌┼╌╌╌╌╌╌╌╌╌╌╌╌┼╌╌╌╌╌╌╌╌╌╌╌╌╌╌╌╌╌╌╌╌╌╌┼╌╌╌╌╌╌╌╌╌╌╌╌╌╌╌┼╌╌╌╌╌╌╌╌╌╌╌╌╌╌┼╌╌╌╌╌╌╌╌╌╌╌╌╌╌╌┼╌╌╌╌╌╌╌╌╌╌╌╌╌╌┤\n",
      "│ …                             ┆ …                        ┆ …            ┆ …           ┆ …               ┆ …             ┆ …          ┆ …                    ┆ …             ┆ …            ┆ …             ┆ …            │\n",
      "├╌╌╌╌╌╌╌╌╌╌╌╌╌╌╌╌╌╌╌╌╌╌╌╌╌╌╌╌╌╌╌┼╌╌╌╌╌╌╌╌╌╌╌╌╌╌╌╌╌╌╌╌╌╌╌╌╌╌┼╌╌╌╌╌╌╌╌╌╌╌╌╌╌┼╌╌╌╌╌╌╌╌╌╌╌╌╌┼╌╌╌╌╌╌╌╌╌╌╌╌╌╌╌╌╌┼╌╌╌╌╌╌╌╌╌╌╌╌╌╌╌┼╌╌╌╌╌╌╌╌╌╌╌╌┼╌╌╌╌╌╌╌╌╌╌╌╌╌╌╌╌╌╌╌╌╌╌┼╌╌╌╌╌╌╌╌╌╌╌╌╌╌╌┼╌╌╌╌╌╌╌╌╌╌╌╌╌╌┼╌╌╌╌╌╌╌╌╌╌╌╌╌╌╌┼╌╌╌╌╌╌╌╌╌╌╌╌╌╌┤\n",
      "│ Lenox Hill West               ┆ Washington Heights North ┆ 23:22        ┆ 7           ┆ 1               ┆ 7.49          ┆ 1          ┆ 2.5                  ┆ 19.59593      ┆ 0            ┆ 22.933333     ┆ 48.8         │\n",
      "├╌╌╌╌╌╌╌╌╌╌╌╌╌╌╌╌╌╌╌╌╌╌╌╌╌╌╌╌╌╌╌┼╌╌╌╌╌╌╌╌╌╌╌╌╌╌╌╌╌╌╌╌╌╌╌╌╌╌┼╌╌╌╌╌╌╌╌╌╌╌╌╌╌┼╌╌╌╌╌╌╌╌╌╌╌╌╌┼╌╌╌╌╌╌╌╌╌╌╌╌╌╌╌╌╌┼╌╌╌╌╌╌╌╌╌╌╌╌╌╌╌┼╌╌╌╌╌╌╌╌╌╌╌╌┼╌╌╌╌╌╌╌╌╌╌╌╌╌╌╌╌╌╌╌╌╌╌┼╌╌╌╌╌╌╌╌╌╌╌╌╌╌╌┼╌╌╌╌╌╌╌╌╌╌╌╌╌╌┼╌╌╌╌╌╌╌╌╌╌╌╌╌╌╌┼╌╌╌╌╌╌╌╌╌╌╌╌╌╌┤\n",
      "│ Union Sq                      ┆ East Village             ┆ 23:18        ┆ 7           ┆ 2               ┆ 1.4           ┆ 1          ┆ 2.5                  ┆ 10.543933     ┆ 0            ┆ 7.966667      ┆ 16.3         │\n",
      "├╌╌╌╌╌╌╌╌╌╌╌╌╌╌╌╌╌╌╌╌╌╌╌╌╌╌╌╌╌╌╌┼╌╌╌╌╌╌╌╌╌╌╌╌╌╌╌╌╌╌╌╌╌╌╌╌╌╌┼╌╌╌╌╌╌╌╌╌╌╌╌╌╌┼╌╌╌╌╌╌╌╌╌╌╌╌╌┼╌╌╌╌╌╌╌╌╌╌╌╌╌╌╌╌╌┼╌╌╌╌╌╌╌╌╌╌╌╌╌╌╌┼╌╌╌╌╌╌╌╌╌╌╌╌┼╌╌╌╌╌╌╌╌╌╌╌╌╌╌╌╌╌╌╌╌╌╌┼╌╌╌╌╌╌╌╌╌╌╌╌╌╌╌┼╌╌╌╌╌╌╌╌╌╌╌╌╌╌┼╌╌╌╌╌╌╌╌╌╌╌╌╌╌╌┼╌╌╌╌╌╌╌╌╌╌╌╌╌╌┤\n",
      "│ East Village                  ┆ East Village             ┆ 23:27        ┆ 7           ┆ 1               ┆ 0.4           ┆ 1          ┆ 2.5                  ┆ 10.140845     ┆ 0            ┆ 2.366667      ┆ 11.25        │\n",
      "├╌╌╌╌╌╌╌╌╌╌╌╌╌╌╌╌╌╌╌╌╌╌╌╌╌╌╌╌╌╌╌┼╌╌╌╌╌╌╌╌╌╌╌╌╌╌╌╌╌╌╌╌╌╌╌╌╌╌┼╌╌╌╌╌╌╌╌╌╌╌╌╌╌┼╌╌╌╌╌╌╌╌╌╌╌╌╌┼╌╌╌╌╌╌╌╌╌╌╌╌╌╌╌╌╌┼╌╌╌╌╌╌╌╌╌╌╌╌╌╌╌┼╌╌╌╌╌╌╌╌╌╌╌╌┼╌╌╌╌╌╌╌╌╌╌╌╌╌╌╌╌╌╌╌╌╌╌┼╌╌╌╌╌╌╌╌╌╌╌╌╌╌╌┼╌╌╌╌╌╌╌╌╌╌╌╌╌╌┼╌╌╌╌╌╌╌╌╌╌╌╌╌╌╌┼╌╌╌╌╌╌╌╌╌╌╌╌╌╌┤\n",
      "│ East Village                  ┆ East Chelsea             ┆ 23:57        ┆ 7           ┆ 1               ┆ 1.33          ┆ 1          ┆ 2.5                  ┆ 11.372922     ┆ 0            ┆ 7.016667      ┆ 14.3         │\n",
      "├╌╌╌╌╌╌╌╌╌╌╌╌╌╌╌╌╌╌╌╌╌╌╌╌╌╌╌╌╌╌╌┼╌╌╌╌╌╌╌╌╌╌╌╌╌╌╌╌╌╌╌╌╌╌╌╌╌╌┼╌╌╌╌╌╌╌╌╌╌╌╌╌╌┼╌╌╌╌╌╌╌╌╌╌╌╌╌┼╌╌╌╌╌╌╌╌╌╌╌╌╌╌╌╌╌┼╌╌╌╌╌╌╌╌╌╌╌╌╌╌╌┼╌╌╌╌╌╌╌╌╌╌╌╌┼╌╌╌╌╌╌╌╌╌╌╌╌╌╌╌╌╌╌╌╌╌╌┼╌╌╌╌╌╌╌╌╌╌╌╌╌╌╌┼╌╌╌╌╌╌╌╌╌╌╌╌╌╌┼╌╌╌╌╌╌╌╌╌╌╌╌╌╌╌┼╌╌╌╌╌╌╌╌╌╌╌╌╌╌┤\n",
      "│ Little Italy/NoLiTa           ┆ Midtown East             ┆ 23:18        ┆ 7           ┆ 1               ┆ 2.62          ┆ 1          ┆ 2.5                  ┆ 11.175355     ┆ 0            ┆ 14.066667     ┆ 19.9         │\n",
      "├╌╌╌╌╌╌╌╌╌╌╌╌╌╌╌╌╌╌╌╌╌╌╌╌╌╌╌╌╌╌╌┼╌╌╌╌╌╌╌╌╌╌╌╌╌╌╌╌╌╌╌╌╌╌╌╌╌╌┼╌╌╌╌╌╌╌╌╌╌╌╌╌╌┼╌╌╌╌╌╌╌╌╌╌╌╌╌┼╌╌╌╌╌╌╌╌╌╌╌╌╌╌╌╌╌┼╌╌╌╌╌╌╌╌╌╌╌╌╌╌╌┼╌╌╌╌╌╌╌╌╌╌╌╌┼╌╌╌╌╌╌╌╌╌╌╌╌╌╌╌╌╌╌╌╌╌╌┼╌╌╌╌╌╌╌╌╌╌╌╌╌╌╌┼╌╌╌╌╌╌╌╌╌╌╌╌╌╌┼╌╌╌╌╌╌╌╌╌╌╌╌╌╌╌┼╌╌╌╌╌╌╌╌╌╌╌╌╌╌┤\n",
      "│ UN/Turtle Bay South           ┆ Astoria                  ┆ 23:36        ┆ 7           ┆ 1               ┆ 4.02          ┆ 1          ┆ 2.5                  ┆ 14.752294     ┆ 0            ┆ 16.35         ┆ 29.76        │\n",
      "├╌╌╌╌╌╌╌╌╌╌╌╌╌╌╌╌╌╌╌╌╌╌╌╌╌╌╌╌╌╌╌┼╌╌╌╌╌╌╌╌╌╌╌╌╌╌╌╌╌╌╌╌╌╌╌╌╌╌┼╌╌╌╌╌╌╌╌╌╌╌╌╌╌┼╌╌╌╌╌╌╌╌╌╌╌╌╌┼╌╌╌╌╌╌╌╌╌╌╌╌╌╌╌╌╌┼╌╌╌╌╌╌╌╌╌╌╌╌╌╌╌┼╌╌╌╌╌╌╌╌╌╌╌╌┼╌╌╌╌╌╌╌╌╌╌╌╌╌╌╌╌╌╌╌╌╌╌┼╌╌╌╌╌╌╌╌╌╌╌╌╌╌╌┼╌╌╌╌╌╌╌╌╌╌╌╌╌╌┼╌╌╌╌╌╌╌╌╌╌╌╌╌╌╌┼╌╌╌╌╌╌╌╌╌╌╌╌╌╌┤\n",
      "│ Midtown Center                ┆ Lincoln Square East      ┆ 23:09        ┆ 7           ┆ 1               ┆ 1.12          ┆ 1          ┆ 2.5                  ┆ 8.195122      ┆ 0            ┆ 8.2           ┆ 13.6         │\n",
      "├╌╌╌╌╌╌╌╌╌╌╌╌╌╌╌╌╌╌╌╌╌╌╌╌╌╌╌╌╌╌╌┼╌╌╌╌╌╌╌╌╌╌╌╌╌╌╌╌╌╌╌╌╌╌╌╌╌╌┼╌╌╌╌╌╌╌╌╌╌╌╌╌╌┼╌╌╌╌╌╌╌╌╌╌╌╌╌┼╌╌╌╌╌╌╌╌╌╌╌╌╌╌╌╌╌┼╌╌╌╌╌╌╌╌╌╌╌╌╌╌╌┼╌╌╌╌╌╌╌╌╌╌╌╌┼╌╌╌╌╌╌╌╌╌╌╌╌╌╌╌╌╌╌╌╌╌╌┼╌╌╌╌╌╌╌╌╌╌╌╌╌╌╌┼╌╌╌╌╌╌╌╌╌╌╌╌╌╌┼╌╌╌╌╌╌╌╌╌╌╌╌╌╌╌┼╌╌╌╌╌╌╌╌╌╌╌╌╌╌┤\n",
      "│ Midtown Center                ┆ Lenox Hill West          ┆ 23:39        ┆ 7           ┆ 1               ┆ 1.81          ┆ 1          ┆ 2.5                  ┆ 8.473342      ┆ 0            ┆ 12.816667     ┆ 22.25        │\n",
      "├╌╌╌╌╌╌╌╌╌╌╌╌╌╌╌╌╌╌╌╌╌╌╌╌╌╌╌╌╌╌╌┼╌╌╌╌╌╌╌╌╌╌╌╌╌╌╌╌╌╌╌╌╌╌╌╌╌╌┼╌╌╌╌╌╌╌╌╌╌╌╌╌╌┼╌╌╌╌╌╌╌╌╌╌╌╌╌┼╌╌╌╌╌╌╌╌╌╌╌╌╌╌╌╌╌┼╌╌╌╌╌╌╌╌╌╌╌╌╌╌╌┼╌╌╌╌╌╌╌╌╌╌╌╌┼╌╌╌╌╌╌╌╌╌╌╌╌╌╌╌╌╌╌╌╌╌╌┼╌╌╌╌╌╌╌╌╌╌╌╌╌╌╌┼╌╌╌╌╌╌╌╌╌╌╌╌╌╌┼╌╌╌╌╌╌╌╌╌╌╌╌╌╌╌┼╌╌╌╌╌╌╌╌╌╌╌╌╌╌┤\n",
      "│ Sutton Place/Turtle Bay North ┆ Lincoln Square East      ┆ 23:09        ┆ 7           ┆ 1               ┆ 2.35          ┆ 1          ┆ 2.5                  ┆ 10.444444     ┆ 0            ┆ 13.5          ┆ 19.9         │\n",
      "├╌╌╌╌╌╌╌╌╌╌╌╌╌╌╌╌╌╌╌╌╌╌╌╌╌╌╌╌╌╌╌┼╌╌╌╌╌╌╌╌╌╌╌╌╌╌╌╌╌╌╌╌╌╌╌╌╌╌┼╌╌╌╌╌╌╌╌╌╌╌╌╌╌┼╌╌╌╌╌╌╌╌╌╌╌╌╌┼╌╌╌╌╌╌╌╌╌╌╌╌╌╌╌╌╌┼╌╌╌╌╌╌╌╌╌╌╌╌╌╌╌┼╌╌╌╌╌╌╌╌╌╌╌╌┼╌╌╌╌╌╌╌╌╌╌╌╌╌╌╌╌╌╌╌╌╌╌┼╌╌╌╌╌╌╌╌╌╌╌╌╌╌╌┼╌╌╌╌╌╌╌╌╌╌╌╌╌╌┼╌╌╌╌╌╌╌╌╌╌╌╌╌╌╌┼╌╌╌╌╌╌╌╌╌╌╌╌╌╌┤\n",
      "│ Upper East Side North         ┆ Yorkville West           ┆ 23:34        ┆ 7           ┆ 1               ┆ 1.06          ┆ 1          ┆ 2.5                  ┆ 9.835052      ┆ 0            ┆ 6.466667      ┆ 16.6         │\n",
      "└───────────────────────────────┴──────────────────────────┴──────────────┴─────────────┴─────────────────┴───────────────┴────────────┴──────────────────────┴───────────────┴──────────────┴───────────────┴──────────────┘\n"
     ]
    }
   ],
   "source": [
    "# Make a copy to preserve original\n",
    "df_model_ready = df_cleaned_35.clone()\n",
    "\n",
    "#Ready for ML\n",
    "df_model_ready = df_model_ready.select([\n",
    "    \"pickup_zone\", \"dropoff_zone\",\n",
    "    \"pick_up_time\", \"day_of_week\",\n",
    "    \"passenger_count\", \"trip_distance\",\n",
    "    \"RatecodeID\", \"congestion_surcharge\",\n",
    "    \"average_speed\", \"is_rush_hour\",\n",
    "    \"trip_duration\", \"total_amount\"\n",
    "])\n",
    "print(df_model_ready)"
   ]
  },
  {
   "cell_type": "code",
   "execution_count": null,
   "id": "f971704c",
   "metadata": {},
   "outputs": [
    {
     "data": {
      "text/plain": [
       "0          505\n",
       "1         1136\n",
       "2         1111\n",
       "3         1287\n",
       "4          550\n",
       "          ... \n",
       "499995    1300\n",
       "499996    1049\n",
       "499997    1122\n",
       "499998    1288\n",
       "499999     435\n",
       "Name: pick_up_time, Length: 500000, dtype: int64"
      ]
     },
     "execution_count": 48,
     "metadata": {},
     "output_type": "execute_result"
    }
   ],
   "source": [
    "from sklearn.preprocessing import LabelEncoder\n",
    "\n",
    "# Convert to categorical in Polars first (more memory efficient)\n",
    "df_cleaned_35 = df_cleaned_35.with_columns(\n",
    "    pl.col(\"pickup_zone\").cast(pl.Categorical),\n",
    "    pl.col(\"dropoff_zone\").cast(pl.Categorical),\n",
    "    pl.col(\"pick_up_time\").cast(pl.Categorical)\n",
    ")\n",
    "\n",
    "# Now sample before converting to Pandas\n",
    "df_sample = df_cleaned_35.sample(n=500_000, seed=42)\n",
    "\n",
    "# Convert just the sample to Pandas\n",
    "df_sample_filtered = df_sample.to_pandas()\n",
    "\n",
    "# Apply LabelEncoder\n",
    "le_pickup = LabelEncoder()\n",
    "le_dropoff = LabelEncoder()\n",
    "le_time = LabelEncoder()\n",
    "\n",
    "df_sample_filtered[\"pickup_zone_enc\"] = le_pickup.fit_transform(df_sample_filtered[\"pickup_zone\"])\n",
    "df_sample_filtered[\"dropoff_zone_enc\"] = le_dropoff.fit_transform(df_sample_filtered[\"dropoff_zone\"])\n",
    "df_sample_filtered[\"pick_up_time\"] = le_time.fit_transform(df_sample_filtered[\"pick_up_time\"])"
   ]
  },
  {
   "cell_type": "code",
   "execution_count": 40,
   "id": "09450a11",
   "metadata": {},
   "outputs": [
    {
     "data": {
      "image/png": "[encoded data removed]",
      "text/plain": [
       "<Figure size 1000x500 with 1 Axes>"
      ]
     },
     "metadata": {},
     "output_type": "display_data"
    }
   ],
   "source": [
    "import matplotlib.pyplot as plt\n",
    "plt.figure(figsize=(10, 5))\n",
    "df_sample_filtered[\"trip_duration\"].hist(bins=100)\n",
    "plt.xlabel(\"Trip Duration (minutes)\")\n",
    "plt.ylabel(\"Frequency\")\n",
    "plt.title(\"Distribution of Trip Duration\")\n",
    "plt.grid(True)\n",
    "plt.show()"
   ]
  },
  {
   "cell_type": "code",
   "execution_count": 41,
   "id": "0c139ec4",
   "metadata": {},
   "outputs": [
    {
     "data": {
      "image/png": "[encoded data removed]",
      "text/plain": [
       "<Figure size 1000x500 with 1 Axes>"
      ]
     },
     "metadata": {},
     "output_type": "display_data"
    }
   ],
   "source": [
    "import matplotlib.pyplot as plt\n",
    "plt.figure(figsize=(10, 5))\n",
    "df_sample_filtered[\"trip_distance\"].hist(bins=100)\n",
    "plt.xlabel(\"trip_distance (miles)\")\n",
    "plt.ylabel(\"Frequency\")\n",
    "plt.title(\"Distribution of Trip Duration\")\n",
    "plt.grid(True)\n",
    "plt.show()"
   ]
  },
  {
   "cell_type": "markdown",
   "id": "979e4fd1",
   "metadata": {},
   "source": [
    "## Chain model"
   ]
  },
  {
   "cell_type": "code",
   "execution_count": 70,
   "id": "c985a9ed",
   "metadata": {},
   "outputs": [],
   "source": [
    "import pandas as pd\n",
    "import numpy as np\n",
    "from sklearn.model_selection import train_test_split\n",
    "from sklearn.ensemble import RandomForestRegressor\n",
    "from sklearn.preprocessing import LabelEncoder\n",
    "import joblib\n",
    "from sklearn.metrics import r2_score, root_mean_squared_error\n",
    "df_sample_filtered[\"pickup_zone_enc\"] = le_pickup.transform(df_sample_filtered[\"pickup_zone\"])\n",
    "df_sample_filtered[\"dropoff_zone_enc\"] = le_dropoff.transform(df_sample_filtered[\"dropoff_zone\"])\n",
    "\n",
    "# Define base features\n",
    "base_features = [\n",
    "    \"pickup_zone_enc\", \"dropoff_zone_enc\",\n",
    "    \"pick_up_time\", \"day_of_week\"\n",
    "]"
   ]
  },
  {
   "cell_type": "code",
   "execution_count": 71,
   "id": "534a0a93",
   "metadata": {},
   "outputs": [
    {
     "name": "stdout",
     "output_type": "stream",
     "text": [
      "Train RMSE: 1.2992526774470836\n",
      "Test RMSE: 1.4136206405379148\n",
      "\n",
      "Train R2: 0.9062970686299655\n",
      "Test R2: 0.8886876014097485\n"
     ]
    }
   ],
   "source": [
    "# === 3. Train Distance Model ===\n",
    "distance_features = base_features\n",
    "X_dist = df_sample_filtered[distance_features]\n",
    "y_dist = df_sample_filtered[\"trip_distance\"]\n",
    "\n",
    "X_train_dist, X_test_dist, y_train_dist, y_test_dist = train_test_split(X_dist, y_dist, test_size=0.2, random_state=42)\n",
    "\n",
    "distance_model = RandomForestRegressor(n_estimators=100, max_depth=15, random_state=42, min_samples_leaf=5, n_jobs=-1)\n",
    "distance_model.fit(X_train_dist, y_train_dist)\n",
    "\n",
    "y_train_pred_dist = distance_model.predict(X_train_dist)  # Added training predictions\n",
    "y_pred_dist = distance_model.predict(X_test_dist)\n",
    "\n",
    "print(\"Train RMSE:\", root_mean_squared_error(y_train_dist, y_train_pred_dist))\n",
    "print(\"Test RMSE:\", root_mean_squared_error(y_test_dist, y_pred_dist))\n",
    "print(\"\\nTrain R2:\", r2_score(y_train_dist, y_train_pred_dist))\n",
    "print(\"Test R2:\", r2_score(y_test_dist, y_pred_dist))\n",
    "\n",
    "# Predict distances for all rows\n",
    "df_sample_filtered[\"predicted_distance\"] = distance_model.predict(X_dist)"
   ]
  },
  {
   "cell_type": "code",
   "execution_count": 72,
   "id": "890052b4",
   "metadata": {},
   "outputs": [
    {
     "name": "stdout",
     "output_type": "stream",
     "text": [
      "[0]\tvalidation_0-rmse:11.37697\n",
      "[10]\tvalidation_0-rmse:7.33791\n",
      "[20]\tvalidation_0-rmse:6.45870\n",
      "[30]\tvalidation_0-rmse:6.22802\n",
      "[40]\tvalidation_0-rmse:6.13684\n",
      "[50]\tvalidation_0-rmse:6.08104\n",
      "[60]\tvalidation_0-rmse:6.03283\n",
      "[70]\tvalidation_0-rmse:5.99712\n",
      "[80]\tvalidation_0-rmse:5.97145\n",
      "[90]\tvalidation_0-rmse:5.93728\n",
      "[100]\tvalidation_0-rmse:5.91237\n",
      "[110]\tvalidation_0-rmse:5.89813\n",
      "[120]\tvalidation_0-rmse:5.88609\n",
      "[130]\tvalidation_0-rmse:5.87231\n",
      "[140]\tvalidation_0-rmse:5.85942\n",
      "[150]\tvalidation_0-rmse:5.84883\n",
      "[160]\tvalidation_0-rmse:5.83509\n",
      "[170]\tvalidation_0-rmse:5.82731\n",
      "[180]\tvalidation_0-rmse:5.81822\n",
      "[190]\tvalidation_0-rmse:5.81130\n",
      "[200]\tvalidation_0-rmse:5.80833\n",
      "[210]\tvalidation_0-rmse:5.80484\n",
      "[220]\tvalidation_0-rmse:5.80147\n",
      "[230]\tvalidation_0-rmse:5.79849\n",
      "[240]\tvalidation_0-rmse:5.79599\n",
      "[250]\tvalidation_0-rmse:5.79165\n",
      "[260]\tvalidation_0-rmse:5.79039\n",
      "[270]\tvalidation_0-rmse:5.78855\n",
      "[280]\tvalidation_0-rmse:5.78840\n",
      "[290]\tvalidation_0-rmse:5.78714\n",
      "[300]\tvalidation_0-rmse:5.78684\n",
      "[310]\tvalidation_0-rmse:5.78615\n",
      "[320]\tvalidation_0-rmse:5.78361\n",
      "[330]\tvalidation_0-rmse:5.78211\n",
      "[340]\tvalidation_0-rmse:5.78248\n",
      "[350]\tvalidation_0-rmse:5.78217\n",
      "[360]\tvalidation_0-rmse:5.78223\n",
      "[370]\tvalidation_0-rmse:5.78242\n",
      "[380]\tvalidation_0-rmse:5.78151\n",
      "[390]\tvalidation_0-rmse:5.78133\n",
      "[400]\tvalidation_0-rmse:5.78123\n",
      "[410]\tvalidation_0-rmse:5.78077\n",
      "[420]\tvalidation_0-rmse:5.78010\n",
      "[430]\tvalidation_0-rmse:5.78035\n",
      "[440]\tvalidation_0-rmse:5.77997\n",
      "[450]\tvalidation_0-rmse:5.77858\n",
      "[460]\tvalidation_0-rmse:5.77833\n",
      "[470]\tvalidation_0-rmse:5.77939\n",
      "[480]\tvalidation_0-rmse:5.78053\n",
      "[490]\tvalidation_0-rmse:5.78148\n",
      "[500]\tvalidation_0-rmse:5.78262\n",
      "[502]\tvalidation_0-rmse:5.78260\n",
      "\n",
      "=== Evaluation Metrics ===\n",
      "Train RMSE: 4.6544559110541295\n",
      "Test RMSE: 5.778177558263522\n",
      "\n",
      "Train R2: 0.8503039791312996\n",
      "Test R2: 0.7686529592826704\n"
     ]
    },
    {
     "data": {
      "text/plain": [
       "<Figure size 1000x600 with 0 Axes>"
      ]
     },
     "metadata": {},
     "output_type": "display_data"
    },
    {
     "data": {
      "image/png": "[encoded data removed]",
      "text/plain": [
       "<Figure size 640x480 with 1 Axes>"
      ]
     },
     "metadata": {},
     "output_type": "display_data"
    }
   ],
   "source": [
    "import xgboost as xgb\n",
    "from xgboost import XGBRegressor\n",
    "from sklearn.model_selection import train_test_split\n",
    "from sklearn.metrics import mean_squared_error, r2_score\n",
    "import numpy as np\n",
    "import matplotlib.pyplot as plt\n",
    "\n",
    "# === 4. Train Duration Model with XGBoost ===\n",
    "duration_features = base_features + [\"predicted_distance\"]\n",
    "X_dur = df_sample_filtered[duration_features]\n",
    "y_dur = df_sample_filtered[\"trip_duration\"]  # Keep log-transform for skewed data\n",
    "\n",
    "# Train-test split\n",
    "X_train_dur, X_test_dur, y_train_dur, y_test_dur = train_test_split(\n",
    "    X_dur, y_dur, test_size=0.2, random_state=42\n",
    ")\n",
    "\n",
    "# Initialize XGBoost model with tuned parameters\n",
    "duration_model = xgb.XGBRegressor(\n",
    "    n_estimators=1500,        # More trees\n",
    "    max_depth=10,              # Shallower, but better splitting\n",
    "    learning_rate=0.1,       # Smaller steps\n",
    "    subsample=0.9,\n",
    "    gamma=0.01,                # Make splitting a little more cautious\n",
    "    colsample_bytree=0.8,\n",
    "    reg_alpha=1.0,\n",
    "    min_child_weight=5,\n",
    "    early_stopping_rounds=50,\n",
    "    random_state=42,\n",
    "    n_jobs=-1\n",
    ")\n",
    "\n",
    "# Train with early stopping\n",
    "duration_model.fit(\n",
    "    X_train_dur, \n",
    "    y_train_dur,\n",
    "    eval_set=[(X_test_dur, y_test_dur)],\n",
    "    verbose=10\n",
    ")\n",
    "\n",
    "# Make predictions (log space)\n",
    "y_train_pred_dur = duration_model.predict(X_train_dur)\n",
    "y_test_pred_dur = duration_model.predict(X_test_dur)\n",
    "\n",
    "# Evaluation metrics\n",
    "def root_mean_squared_error(y_true, y_pred):\n",
    "    return np.sqrt(mean_squared_error(y_true, y_pred))\n",
    "\n",
    "print(\"\\n=== Evaluation Metrics ===\")\n",
    "print(\"Train RMSE:\", root_mean_squared_error(y_train_dur, y_train_pred_dur))\n",
    "print(\"Test RMSE:\", root_mean_squared_error(y_test_dur, y_test_pred_dur))\n",
    "print(\"\\nTrain R2:\", r2_score(y_train_dur, y_train_pred_dur))\n",
    "print(\"Test R2:\", r2_score(y_test_dur, y_test_pred_dur))\n",
    "\n",
    "# Feature importance\n",
    "plt.figure(figsize=(10, 6))\n",
    "xgb.plot_importance(duration_model, max_num_features=15)\n",
    "plt.show()\n",
    "\n",
    "# Predict for all data\n",
    "df_sample_filtered[\"predicted_duration\"] = (duration_model.predict(X_dur))"
   ]
  },
  {
   "cell_type": "code",
   "execution_count": 73,
   "id": "52b64d75",
   "metadata": {},
   "outputs": [
    {
     "name": "stdout",
     "output_type": "stream",
     "text": [
      "Test Fare Model RMSE: 5.69 dollars\n",
      "Train Fare Model RMSE: 4.45 dollars\n",
      "\n",
      "Train R2: 0.9147857726396943\n",
      "Test R2: 0.8589939268163475\n"
     ]
    }
   ],
   "source": [
    "# === 5. Train Fare Model ===\n",
    "fare_features = base_features + [\"predicted_distance\", \"predicted_duration\"]\n",
    "X_fare = df_sample_filtered[fare_features]\n",
    "y_fare = df_sample_filtered[\"total_amount\"]\n",
    "\n",
    "X_train_fare, X_test_fare, y_train_fare, y_test_fare = train_test_split(X_fare, y_fare, test_size=0.2, random_state=42)\n",
    "\n",
    "fare_model = RandomForestRegressor(n_estimators=100, max_depth=15, random_state=42, min_samples_leaf=5, n_jobs=-1)\n",
    "fare_model.fit(X_train_fare, y_train_fare)\n",
    "\n",
    "y_pred_fare_test = fare_model.predict(X_test_fare)\n",
    "y_pred_fare_train = fare_model.predict(X_train_fare)\n",
    "\n",
    "rmse_fare_test = np.sqrt(mean_squared_error(y_test_fare, y_pred_fare_test))\n",
    "rmse_fare_train = np.sqrt(mean_squared_error(y_train_fare, y_pred_fare_train))\n",
    "\n",
    "print(f\"Test Fare Model RMSE: {rmse_fare_test:.2f} dollars\")\n",
    "print(f\"Train Fare Model RMSE: {rmse_fare_train:.2f} dollars\")\n",
    "print(\"\\nTrain R2:\", r2_score(y_train_fare, y_pred_fare_train))\n",
    "print(\"Test R2:\", r2_score(y_test_fare, y_pred_fare_test))"
   ]
  },
  {
   "cell_type": "code",
   "execution_count": 74,
   "id": "7773684a",
   "metadata": {},
   "outputs": [
    {
     "data": {
      "text/plain": [
       "['time_tranformer.pkl']"
      ]
     },
     "execution_count": 74,
     "metadata": {},
     "output_type": "execute_result"
    }
   ],
   "source": [
    "# === 6. Save models and encoders ===\n",
    "joblib.dump(distance_model, \"trip_distance_model.pkl\")\n",
    "joblib.dump(duration_model, \"trip_duration_model.pkl\")\n",
    "joblib.dump(fare_model, \"trip_fare_model.pkl\")\n",
    "joblib.dump(le_pickup, \"pickup_zone_encoder.pkl\")\n",
    "joblib.dump(le_dropoff, \"dropoff_zone_encoder.pkl\")\n",
    "joblib.dump(le_time, \"time_tranformer.pkl\")"
   ]
  }
 ],
 "metadata": {
  "kernelspec": {
   "display_name": "taxi_project",
   "language": "python",
   "name": "python3"
  },
  "language_info": {
   "codemirror_mode": {
    "name": "ipython",
    "version": 3
   },
   "file_extension": ".py",
   "mimetype": "text/x-python",
   "name": "python",
   "nbconvert_exporter": "python",
   "pygments_lexer": "ipython3",
   "version": "3.12.3"
  }
 },
 "nbformat": 4,
 "nbformat_minor": 5
}
